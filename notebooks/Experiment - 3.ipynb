{
 "cells": [
  {
   "cell_type": "markdown",
   "metadata": {},
   "source": [
    "```\n",
    "Feature Interaction among categorical variables.\n",
    "```"
   ]
  },
  {
   "cell_type": "code",
   "execution_count": 20,
   "metadata": {
    "collapsed": true
   },
   "outputs": [],
   "source": [
    "%matplotlib inline\n",
    "\n",
    "import numpy as np\n",
    "import pandas as pd\n",
    "import os, sys\n",
    "\n",
    "import matplotlib.pyplot as plt\n",
    "import seaborn as sns\n",
    "\n",
    "from sklearn.cross_validation import KFold, train_test_split\n",
    "from sklearn.ensemble import RandomForestRegressor\n",
    "from sklearn.metrics import mean_absolute_error\n",
    "\n",
    "import warnings\n",
    "warnings.filterwarnings('ignore')\n",
    "\n",
    "basepath = os.path.expanduser('~/Desktop/src/AllState_Claims_Severity/')\n",
    "sys.path.append(os.path.join(basepath, 'src'))\n",
    "\n",
    "np.random.seed(2016)"
   ]
  },
  {
   "cell_type": "code",
   "execution_count": 184,
   "metadata": {
    "collapsed": true
   },
   "outputs": [],
   "source": [
    "train = pd.read_csv(os.path.join(basepath, 'data/raw/train.csv'))\n",
    "test  = pd.read_csv(os.path.join(basepath, 'data/raw/test.csv'))"
   ]
  },
  {
   "cell_type": "code",
   "execution_count": 185,
   "metadata": {
    "collapsed": true
   },
   "outputs": [],
   "source": [
    "data = pd.concat((train, test))"
   ]
  },
  {
   "cell_type": "code",
   "execution_count": 186,
   "metadata": {
    "collapsed": false
   },
   "outputs": [],
   "source": [
    "y = np.log(train.loss)"
   ]
  },
  {
   "cell_type": "code",
   "execution_count": 187,
   "metadata": {
    "collapsed": true
   },
   "outputs": [],
   "source": [
    "cat_variables = [col for col in data.columns if 'cat' in col]\n",
    "\n",
    "for feat in cat_variables:\n",
    "    data[feat] = pd.factorize(data[feat], sort=True)[0]"
   ]
  },
  {
   "cell_type": "code",
   "execution_count": 196,
   "metadata": {
    "collapsed": true
   },
   "outputs": [],
   "source": [
    "def round_down(number):\n",
    "    n = len(str(number))\n",
    "    return number  - ( number % np.power(10, n - 1))\n",
    "    \n",
    "data['cat116_count'] = data.groupby(['cat116'])['cat116'].transform(lambda x: len(x))\n",
    "data['cat116_grouped'] = data.cat116_count.map(round_down)"
   ]
  },
  {
   "cell_type": "code",
   "execution_count": 197,
   "metadata": {
    "collapsed": true
   },
   "outputs": [],
   "source": [
    "train = data[:len(train)]\n",
    "test  = data[len(train):]"
   ]
  },
  {
   "cell_type": "code",
   "execution_count": 190,
   "metadata": {
    "collapsed": false
   },
   "outputs": [
    {
     "data": {
      "text/plain": [
       "cat1  cat2\n",
       "0     0       2778.058601\n",
       "      1       4087.370464\n",
       "1     0       1739.453456\n",
       "      1       2349.008869\n",
       "Name: loss, dtype: float64"
      ]
     },
     "execution_count": 190,
     "metadata": {},
     "output_type": "execute_result"
    }
   ],
   "source": [
    "train.groupby(['cat1', 'cat2'])['loss'].mean()"
   ]
  },
  {
   "cell_type": "code",
   "execution_count": 179,
   "metadata": {
    "collapsed": false
   },
   "outputs": [
    {
     "data": {
      "text/html": [
       "<div>\n",
       "<table border=\"1\" class=\"dataframe\">\n",
       "  <thead>\n",
       "    <tr style=\"text-align: right;\">\n",
       "      <th>cat1</th>\n",
       "      <th>0</th>\n",
       "      <th>1</th>\n",
       "    </tr>\n",
       "    <tr>\n",
       "      <th>cat2</th>\n",
       "      <th></th>\n",
       "      <th></th>\n",
       "    </tr>\n",
       "  </thead>\n",
       "  <tbody>\n",
       "    <tr>\n",
       "      <th>0</th>\n",
       "      <td>2778.058601</td>\n",
       "      <td>1739.453456</td>\n",
       "    </tr>\n",
       "    <tr>\n",
       "      <th>1</th>\n",
       "      <td>4087.370464</td>\n",
       "      <td>2349.008869</td>\n",
       "    </tr>\n",
       "  </tbody>\n",
       "</table>\n",
       "</div>"
      ],
      "text/plain": [
       "cat1            0            1\n",
       "cat2                          \n",
       "0     2778.058601  1739.453456\n",
       "1     4087.370464  2349.008869"
      ]
     },
     "execution_count": 179,
     "metadata": {},
     "output_type": "execute_result"
    }
   ],
   "source": [
    "train.pivot_table(columns='cat1', index='cat2', values='loss', aggfunc='mean')"
   ]
  },
  {
   "cell_type": "code",
   "execution_count": 82,
   "metadata": {
    "collapsed": false
   },
   "outputs": [
    {
     "data": {
      "text/html": [
       "<div>\n",
       "<table border=\"1\" class=\"dataframe\">\n",
       "  <thead>\n",
       "    <tr>\n",
       "      <th>cat1</th>\n",
       "      <th colspan=\"10\" halign=\"left\">0</th>\n",
       "      <th>...</th>\n",
       "      <th colspan=\"10\" halign=\"left\">1</th>\n",
       "    </tr>\n",
       "    <tr>\n",
       "      <th>cat79</th>\n",
       "      <th colspan=\"10\" halign=\"left\">0</th>\n",
       "      <th>...</th>\n",
       "      <th colspan=\"10\" halign=\"left\">3</th>\n",
       "    </tr>\n",
       "    <tr>\n",
       "      <th>cat81</th>\n",
       "      <th colspan=\"2\" halign=\"left\">0</th>\n",
       "      <th colspan=\"4\" halign=\"left\">1</th>\n",
       "      <th colspan=\"4\" halign=\"left\">2</th>\n",
       "      <th>...</th>\n",
       "      <th colspan=\"2\" halign=\"left\">1</th>\n",
       "      <th colspan=\"4\" halign=\"left\">2</th>\n",
       "      <th colspan=\"4\" halign=\"left\">3</th>\n",
       "    </tr>\n",
       "    <tr>\n",
       "      <th>cat82</th>\n",
       "      <th>0</th>\n",
       "      <th>1</th>\n",
       "      <th>0</th>\n",
       "      <th>1</th>\n",
       "      <th>2</th>\n",
       "      <th>3</th>\n",
       "      <th>0</th>\n",
       "      <th>1</th>\n",
       "      <th>2</th>\n",
       "      <th>3</th>\n",
       "      <th>...</th>\n",
       "      <th>2</th>\n",
       "      <th>3</th>\n",
       "      <th>0</th>\n",
       "      <th>1</th>\n",
       "      <th>2</th>\n",
       "      <th>3</th>\n",
       "      <th>0</th>\n",
       "      <th>1</th>\n",
       "      <th>2</th>\n",
       "      <th>3</th>\n",
       "    </tr>\n",
       "    <tr>\n",
       "      <th>cat80</th>\n",
       "      <th></th>\n",
       "      <th></th>\n",
       "      <th></th>\n",
       "      <th></th>\n",
       "      <th></th>\n",
       "      <th></th>\n",
       "      <th></th>\n",
       "      <th></th>\n",
       "      <th></th>\n",
       "      <th></th>\n",
       "      <th></th>\n",
       "      <th></th>\n",
       "      <th></th>\n",
       "      <th></th>\n",
       "      <th></th>\n",
       "      <th></th>\n",
       "      <th></th>\n",
       "      <th></th>\n",
       "      <th></th>\n",
       "      <th></th>\n",
       "      <th></th>\n",
       "    </tr>\n",
       "  </thead>\n",
       "  <tbody>\n",
       "    <tr>\n",
       "      <th>0</th>\n",
       "      <td>1853.360</td>\n",
       "      <td>1160.38</td>\n",
       "      <td>0.00</td>\n",
       "      <td>0.00</td>\n",
       "      <td>0.00</td>\n",
       "      <td>0.000</td>\n",
       "      <td>0.000</td>\n",
       "      <td>0.000</td>\n",
       "      <td>0.00</td>\n",
       "      <td>0.00</td>\n",
       "      <td>...</td>\n",
       "      <td>0.000</td>\n",
       "      <td>0.000</td>\n",
       "      <td>0.000</td>\n",
       "      <td>0.00</td>\n",
       "      <td>0.00</td>\n",
       "      <td>0.000</td>\n",
       "      <td>0.000</td>\n",
       "      <td>0.000</td>\n",
       "      <td>0.000</td>\n",
       "      <td>0.000</td>\n",
       "    </tr>\n",
       "    <tr>\n",
       "      <th>1</th>\n",
       "      <td>2293.040</td>\n",
       "      <td>0.00</td>\n",
       "      <td>5514.29</td>\n",
       "      <td>4957.43</td>\n",
       "      <td>0.00</td>\n",
       "      <td>1829.285</td>\n",
       "      <td>4975.285</td>\n",
       "      <td>6366.275</td>\n",
       "      <td>0.00</td>\n",
       "      <td>2292.48</td>\n",
       "      <td>...</td>\n",
       "      <td>4390.945</td>\n",
       "      <td>3633.390</td>\n",
       "      <td>5073.995</td>\n",
       "      <td>5771.98</td>\n",
       "      <td>4282.30</td>\n",
       "      <td>4190.385</td>\n",
       "      <td>4833.680</td>\n",
       "      <td>4029.500</td>\n",
       "      <td>4084.700</td>\n",
       "      <td>2526.510</td>\n",
       "    </tr>\n",
       "    <tr>\n",
       "      <th>2</th>\n",
       "      <td>0.000</td>\n",
       "      <td>0.00</td>\n",
       "      <td>5720.33</td>\n",
       "      <td>3667.96</td>\n",
       "      <td>0.00</td>\n",
       "      <td>0.000</td>\n",
       "      <td>2681.270</td>\n",
       "      <td>5669.790</td>\n",
       "      <td>4606.54</td>\n",
       "      <td>2536.06</td>\n",
       "      <td>...</td>\n",
       "      <td>4586.250</td>\n",
       "      <td>0.000</td>\n",
       "      <td>0.000</td>\n",
       "      <td>4242.02</td>\n",
       "      <td>4057.37</td>\n",
       "      <td>2293.440</td>\n",
       "      <td>0.000</td>\n",
       "      <td>5784.000</td>\n",
       "      <td>9275.780</td>\n",
       "      <td>3319.255</td>\n",
       "    </tr>\n",
       "    <tr>\n",
       "      <th>3</th>\n",
       "      <td>763.755</td>\n",
       "      <td>0.00</td>\n",
       "      <td>2922.49</td>\n",
       "      <td>2641.81</td>\n",
       "      <td>1535.31</td>\n",
       "      <td>2099.900</td>\n",
       "      <td>2374.170</td>\n",
       "      <td>2318.410</td>\n",
       "      <td>2255.66</td>\n",
       "      <td>2580.33</td>\n",
       "      <td>...</td>\n",
       "      <td>1908.390</td>\n",
       "      <td>1696.895</td>\n",
       "      <td>1973.640</td>\n",
       "      <td>1628.94</td>\n",
       "      <td>0.00</td>\n",
       "      <td>0.000</td>\n",
       "      <td>1391.605</td>\n",
       "      <td>1626.825</td>\n",
       "      <td>4081.395</td>\n",
       "      <td>1590.100</td>\n",
       "    </tr>\n",
       "  </tbody>\n",
       "</table>\n",
       "<p>4 rows × 103 columns</p>\n",
       "</div>"
      ],
      "text/plain": [
       "cat1          0                                                          \\\n",
       "cat79         0                                                           \n",
       "cat81         0                 1                                     2   \n",
       "cat82         0        1        0        1        2         3         0   \n",
       "cat80                                                                     \n",
       "0      1853.360  1160.38     0.00     0.00     0.00     0.000     0.000   \n",
       "1      2293.040     0.00  5514.29  4957.43     0.00  1829.285  4975.285   \n",
       "2         0.000     0.00  5720.33  3667.96     0.00     0.000  2681.270   \n",
       "3       763.755     0.00  2922.49  2641.81  1535.31  2099.900  2374.170   \n",
       "\n",
       "cat1                                 ...            1                      \\\n",
       "cat79                                ...            3                       \n",
       "cat81                                ...            1                   2   \n",
       "cat82         1        2        3    ...            2         3         0   \n",
       "cat80                                ...                                    \n",
       "0         0.000     0.00     0.00    ...        0.000     0.000     0.000   \n",
       "1      6366.275     0.00  2292.48    ...     4390.945  3633.390  5073.995   \n",
       "2      5669.790  4606.54  2536.06    ...     4586.250     0.000     0.000   \n",
       "3      2318.410  2255.66  2580.33    ...     1908.390  1696.895  1973.640   \n",
       "\n",
       "cat1                                                                       \n",
       "cat79                                                                      \n",
       "cat81                                     3                                \n",
       "cat82        1        2         3         0         1         2         3  \n",
       "cat80                                                                      \n",
       "0         0.00     0.00     0.000     0.000     0.000     0.000     0.000  \n",
       "1      5771.98  4282.30  4190.385  4833.680  4029.500  4084.700  2526.510  \n",
       "2      4242.02  4057.37  2293.440     0.000  5784.000  9275.780  3319.255  \n",
       "3      1628.94     0.00     0.000  1391.605  1626.825  4081.395  1590.100  \n",
       "\n",
       "[4 rows x 103 columns]"
      ]
     },
     "execution_count": 82,
     "metadata": {},
     "output_type": "execute_result"
    }
   ],
   "source": [
    "train.pivot_table(columns=['cat1', 'cat79', 'cat81', 'cat82'], index='cat80', values='loss', aggfunc='median', fill_value=0)"
   ]
  },
  {
   "cell_type": "code",
   "execution_count": 121,
   "metadata": {
    "collapsed": false
   },
   "outputs": [],
   "source": [
    "def get_cardinality(data, cat_variables):\n",
    "    return sorted([(col, data[col].nunique()) for col in cat_variables], key=lambda x: x[1], reverse=True)"
   ]
  },
  {
   "cell_type": "code",
   "execution_count": 122,
   "metadata": {
    "collapsed": false
   },
   "outputs": [],
   "source": [
    "cardinality = get_cardinality(data, cat_variables)"
   ]
  },
  {
   "cell_type": "code",
   "execution_count": 123,
   "metadata": {
    "collapsed": false
   },
   "outputs": [
    {
     "data": {
      "text/plain": [
       "[('cat116', 326),\n",
       " ('cat110', 131),\n",
       " ('cat109', 84),\n",
       " ('cat113', 61),\n",
       " ('cat112', 51),\n",
       " ('cat115', 23),\n",
       " ('cat105', 20),\n",
       " ('cat107', 20),\n",
       " ('cat101', 19),\n",
       " ('cat114', 19),\n",
       " ('cat104', 17),\n",
       " ('cat106', 17),\n",
       " ('cat99', 16),\n",
       " ('cat111', 16),\n",
       " ('cat100', 15),\n",
       " ('cat103', 13),\n",
       " ('cat108', 11),\n",
       " ('cat102', 9),\n",
       " ('cat89', 8),\n",
       " ('cat91', 8),\n",
       " ('cat96', 8),\n",
       " ('cat90', 7),\n",
       " ('cat92', 7),\n",
       " ('cat94', 7),\n",
       " ('cat97', 7),\n",
       " ('cat93', 5),\n",
       " ('cat95', 5),\n",
       " ('cat98', 5),\n",
       " ('cat77', 4),\n",
       " ('cat78', 4),\n",
       " ('cat79', 4),\n",
       " ('cat80', 4),\n",
       " ('cat81', 4),\n",
       " ('cat82', 4),\n",
       " ('cat83', 4),\n",
       " ('cat84', 4),\n",
       " ('cat85', 4),\n",
       " ('cat86', 4),\n",
       " ('cat87', 4),\n",
       " ('cat88', 4),\n",
       " ('cat73', 3),\n",
       " ('cat74', 3),\n",
       " ('cat75', 3),\n",
       " ('cat76', 3),\n",
       " ('cat1', 2),\n",
       " ('cat2', 2),\n",
       " ('cat3', 2),\n",
       " ('cat4', 2),\n",
       " ('cat5', 2),\n",
       " ('cat6', 2),\n",
       " ('cat7', 2),\n",
       " ('cat8', 2),\n",
       " ('cat9', 2),\n",
       " ('cat10', 2),\n",
       " ('cat11', 2),\n",
       " ('cat12', 2),\n",
       " ('cat13', 2),\n",
       " ('cat14', 2),\n",
       " ('cat15', 2),\n",
       " ('cat16', 2),\n",
       " ('cat17', 2),\n",
       " ('cat18', 2),\n",
       " ('cat19', 2),\n",
       " ('cat20', 2),\n",
       " ('cat21', 2),\n",
       " ('cat22', 2),\n",
       " ('cat23', 2),\n",
       " ('cat24', 2),\n",
       " ('cat25', 2),\n",
       " ('cat26', 2),\n",
       " ('cat27', 2),\n",
       " ('cat28', 2),\n",
       " ('cat29', 2),\n",
       " ('cat30', 2),\n",
       " ('cat31', 2),\n",
       " ('cat32', 2),\n",
       " ('cat33', 2),\n",
       " ('cat34', 2),\n",
       " ('cat35', 2),\n",
       " ('cat36', 2),\n",
       " ('cat37', 2),\n",
       " ('cat38', 2),\n",
       " ('cat39', 2),\n",
       " ('cat40', 2),\n",
       " ('cat41', 2),\n",
       " ('cat42', 2),\n",
       " ('cat43', 2),\n",
       " ('cat44', 2),\n",
       " ('cat45', 2),\n",
       " ('cat46', 2),\n",
       " ('cat47', 2),\n",
       " ('cat48', 2),\n",
       " ('cat49', 2),\n",
       " ('cat50', 2),\n",
       " ('cat51', 2),\n",
       " ('cat52', 2),\n",
       " ('cat53', 2),\n",
       " ('cat54', 2),\n",
       " ('cat55', 2),\n",
       " ('cat56', 2),\n",
       " ('cat57', 2),\n",
       " ('cat58', 2),\n",
       " ('cat59', 2),\n",
       " ('cat60', 2),\n",
       " ('cat61', 2),\n",
       " ('cat62', 2),\n",
       " ('cat63', 2),\n",
       " ('cat64', 2),\n",
       " ('cat65', 2),\n",
       " ('cat66', 2),\n",
       " ('cat67', 2),\n",
       " ('cat68', 2),\n",
       " ('cat69', 2),\n",
       " ('cat70', 2),\n",
       " ('cat71', 2),\n",
       " ('cat72', 2)]"
      ]
     },
     "execution_count": 123,
     "metadata": {},
     "output_type": "execute_result"
    }
   ],
   "source": [
    "cardinality"
   ]
  },
  {
   "cell_type": "code",
   "execution_count": 209,
   "metadata": {
    "collapsed": true
   },
   "outputs": [],
   "source": [
    "itrain, itest = train_test_split(range(len(train)), test_size=.2, random_state=12121)\n",
    "\n",
    "X_train = train[['cat116_grouped', 'cat80', 'cat101']].iloc[itrain]\n",
    "X_test  = train[['cat116_grouped', 'cat80', 'cat101']].iloc[itest]\n",
    "\n",
    "y_train = y.iloc[itrain]\n",
    "y_test  = y.iloc[itest]"
   ]
  },
  {
   "cell_type": "code",
   "execution_count": 210,
   "metadata": {
    "collapsed": false
   },
   "outputs": [
    {
     "name": "stdout",
     "output_type": "stream",
     "text": [
      "Fold: 0\n",
      "MAE score: 1496.4724940509932\n",
      "Fold: 1\n",
      "MAE score: 1493.8944984381035\n",
      "Fold: 2\n",
      "MAE score: 1480.3191135496788\n",
      "Fold: 3\n",
      "MAE score: 1499.1284696852772\n",
      "Fold: 4\n",
      "MAE score: 1498.1042143429124\n"
     ]
    }
   ],
   "source": [
    "kf = KFold(len(X_train), n_folds=5, shuffle=True, random_state=1231)\n",
    "\n",
    "for index, (itr, ite) in enumerate(kf):\n",
    "    print('Fold: {}'.format(index))\n",
    "    \n",
    "    Xtr = X_train.iloc[itr]\n",
    "    ytr = y_train.iloc[itr]\n",
    "    \n",
    "    Xte = X_train.iloc[ite]\n",
    "    yte = y_train.iloc[ite]\n",
    "    \n",
    "    est = RandomForestRegressor(n_jobs=-1, random_state=1231831)\n",
    "    est.fit(Xtr, ytr)\n",
    "    \n",
    "    yhat = est.predict(Xte)\n",
    "    \n",
    "    print('MAE score: {}'.format(mean_absolute_error(np.exp(yte), np.exp(yhat))))"
   ]
  },
  {
   "cell_type": "code",
   "execution_count": 211,
   "metadata": {
    "collapsed": false
   },
   "outputs": [
    {
     "name": "stdout",
     "output_type": "stream",
     "text": [
      "Mean Absolute Error: 1483.0095065311789\n"
     ]
    }
   ],
   "source": [
    "est = RandomForestRegressor(n_jobs=-1, random_state=1231319)\n",
    "est.fit(X_train, y_train)\n",
    "pred = est.predict(X_test)\n",
    "\n",
    "print('Mean Absolute Error: {0}'.format(mean_absolute_error(np.exp(y_test), np.exp(pred))))"
   ]
  },
  {
   "cell_type": "code",
   "execution_count": null,
   "metadata": {
    "collapsed": true
   },
   "outputs": [],
   "source": []
  },
  {
   "cell_type": "code",
   "execution_count": null,
   "metadata": {
    "collapsed": true
   },
   "outputs": [],
   "source": []
  }
 ],
 "metadata": {
  "anaconda-cloud": {},
  "kernelspec": {
   "display_name": "Python [Root]",
   "language": "python",
   "name": "Python [Root]"
  },
  "language_info": {
   "codemirror_mode": {
    "name": "ipython",
    "version": 3
   },
   "file_extension": ".py",
   "mimetype": "text/x-python",
   "name": "python",
   "nbconvert_exporter": "python",
   "pygments_lexer": "ipython3",
   "version": "3.5.2"
  }
 },
 "nbformat": 4,
 "nbformat_minor": 0
}
