{
 "cells": [
  {
   "cell_type": "markdown",
   "metadata": {},
   "source": [
    "** What is the evaluation metric ? **\n",
    "\n",
    "* What is mean absolute error ? \n",
    "* How does it penalize the incorrect values ?"
   ]
  },
  {
   "cell_type": "code",
   "execution_count": 26,
   "metadata": {
    "collapsed": true
   },
   "outputs": [],
   "source": [
    "%matplotlib inline\n",
    "\n",
    "import numpy as np\n",
    "import pandas as pd\n",
    "import os,sys\n",
    "import bisect\n",
    "import random\n",
    "\n",
    "from collections import Counter, Sequence\n",
    "\n",
    "import matplotlib.pyplot as plt\n",
    "import seaborn as sns\n",
    "\n",
    "from sklearn.metrics import mean_absolute_error\n",
    "\n",
    "import warnings\n",
    "warnings.filterwarnings('ignore')\n",
    "\n",
    "basepath = os.path.expanduser('~/Desktop/src/AllState_Claims_Severity/')\n",
    "sys.path.append(os.path.join(basepath, 'src'))\n",
    "\n",
    "np.random.seed(2016)\n",
    "\n",
    "from data import *"
   ]
  },
  {
   "cell_type": "code",
   "execution_count": 2,
   "metadata": {
    "collapsed": true
   },
   "outputs": [],
   "source": [
    "train, test, sample_sub = load_data()"
   ]
  },
  {
   "cell_type": "code",
   "execution_count": 5,
   "metadata": {
    "collapsed": false
   },
   "outputs": [],
   "source": [
    "# target variable\n",
    "y = train.loss"
   ]
  },
  {
   "cell_type": "markdown",
   "metadata": {},
   "source": [
    "### Wikipedia Definition"
   ]
  },
  {
   "cell_type": "markdown",
   "metadata": {},
   "source": [
    "* Mean absolute error (MAE) is a quantity used to measure how close forecasts or predictions are to the eventual outcomes.\n",
    "\n",
    "* the mean absolute error is an average of the absolute errors $${\\displaystyle |e_{i}|=|f_{i}-y_{i}|}$$"
   ]
  },
  {
   "cell_type": "code",
   "execution_count": 10,
   "metadata": {
    "collapsed": true
   },
   "outputs": [],
   "source": [
    "# lets generate some random predictions and see their mean absolute error\n",
    "\n",
    "class RandomPredictions(object):\n",
    "    def __init__(self, seed, length, max_, min_):\n",
    "        self.seed   = np.random.seed(seed)\n",
    "        self.length = length\n",
    "        self.max_   = max_\n",
    "        self.min_   = min_\n",
    "        \n",
    "    def generate_predictions(self):\n",
    "        return [np.random.uniform(self.max_, self.min_) for i in range(self.length)]"
   ]
  },
  {
   "cell_type": "code",
   "execution_count": 11,
   "metadata": {
    "collapsed": false
   },
   "outputs": [],
   "source": [
    "rp1 = RandomPredictions(2016, len(y), y.max(), y.min())\n",
    "rp2 = RandomPredictions(2015, len(y), y.max(), y.min())"
   ]
  },
  {
   "cell_type": "code",
   "execution_count": 12,
   "metadata": {
    "collapsed": false
   },
   "outputs": [],
   "source": [
    "preds1 = rp1.generate_predictions()\n",
    "preds2 = rp2.generate_predictions()"
   ]
  },
  {
   "cell_type": "code",
   "execution_count": 14,
   "metadata": {
    "collapsed": true
   },
   "outputs": [],
   "source": [
    "err1   = mean_absolute_error(y, preds1)\n",
    "err2   = mean_absolute_error(y, preds2)"
   ]
  },
  {
   "cell_type": "code",
   "execution_count": 15,
   "metadata": {
    "collapsed": false
   },
   "outputs": [
    {
     "name": "stdout",
     "output_type": "stream",
     "text": [
      "Mean absolute error for case 1:  57500.8218618\n",
      "Mean absolute error for case 2:  57583.2029913\n"
     ]
    }
   ],
   "source": [
    "print('Mean absolute error for case 1: ', err1)\n",
    "print('Mean absolute error for case 2: ', err2)"
   ]
  },
  {
   "cell_type": "code",
   "execution_count": 19,
   "metadata": {
    "collapsed": true
   },
   "outputs": [],
   "source": [
    "# lets plot to see how the random predictions perform in general\n",
    "def analyze_random_predictions():\n",
    "    seeds = np.arange(2000, 2020)\n",
    "    errs  = []\n",
    "    \n",
    "    for seed in seeds:\n",
    "        rp    = RandomPredictions(seed, len(y), y.max(), y.min())\n",
    "        preds = rp.generate_predictions()\n",
    "        err   = mean_absolute_error(y, preds)\n",
    "        \n",
    "        errs.append(err)\n",
    "    \n",
    "    plt.scatter(np.arange(len(seeds)), errs)\n",
    "    plt.xlabel('Number of trials')\n",
    "    plt.ylabel('MAE of uniform random predictions');"
   ]
  },
  {
   "cell_type": "code",
   "execution_count": 20,
   "metadata": {
    "collapsed": false
   },
   "outputs": [
    {
     "data": {
      "image/png": "[encoded data removed]",
      "text/plain": [
       "<matplotlib.figure.Figure at 0x7f040cb66160>"
      ]
     },
     "metadata": {},
     "output_type": "display_data"
    }
   ],
   "source": [
    "analyze_random_predictions()"
   ]
  },
  {
   "cell_type": "markdown",
   "metadata": {},
   "source": [
    "** Let' try to add some intelliegence and instead of just choosing uniformly among all the possible values, choose via a weighted scheme. **"
   ]
  },
  {
   "cell_type": "code",
   "execution_count": 46,
   "metadata": {
    "collapsed": false
   },
   "outputs": [],
   "source": [
    "# lets generate some random predictions and see their mean absolute error\n",
    "\n",
    "class WeightedPredictions(object):\n",
    "    def __init__(self, seed, loss):\n",
    "        self.seed   = np.random.seed(seed)\n",
    "        self.loss   = loss\n",
    "        \n",
    "    def generate_predictions(self):\n",
    "        return [np.random.choice(self.loss) for i in range(len(self.loss))]"
   ]
  },
  {
   "cell_type": "code",
   "execution_count": 49,
   "metadata": {
    "collapsed": false
   },
   "outputs": [],
   "source": [
    "# lets plot to see how the random predictions perform in general\n",
    "\n",
    "def analyze_weighted_predictions():\n",
    "    seeds = np.arange(2000, 2020)\n",
    "    errs  = []\n",
    "    \n",
    "    for seed in seeds:\n",
    "        rp    = WeightedPredictions(seed, y)\n",
    "        preds = rp.generate_predictions()\n",
    "        err   = mean_absolute_error(y, preds)\n",
    "        \n",
    "        errs.append(err)\n",
    "    \n",
    "    plt.scatter(np.arange(len(seeds)), errs)\n",
    "    plt.xlabel('Number of trials')\n",
    "    plt.ylabel('MAE of weighted predictions');"
   ]
  },
  {
   "cell_type": "code",
   "execution_count": 50,
   "metadata": {
    "collapsed": false
   },
   "outputs": [
    {
     "data": {
      "image/png": "[encoded data removed]",
      "text/plain": [
       "<matplotlib.figure.Figure at 0x7f040cc053c8>"
      ]
     },
     "metadata": {},
     "output_type": "display_data"
    }
   ],
   "source": [
    "analyze_weighted_predictions();"
   ]
  },
  {
   "cell_type": "markdown",
   "metadata": {},
   "source": [
    "** We can improve upon our guess by just using the "
   ]
  }
 ],
 "metadata": {
  "anaconda-cloud": {},
  "kernelspec": {
   "display_name": "Python [Root]",
   "language": "python",
   "name": "Python [Root]"
  },
  "language_info": {
   "codemirror_mode": {
    "name": "ipython",
    "version": 3
   },
   "file_extension": ".py",
   "mimetype": "text/x-python",
   "name": "python",
   "nbconvert_exporter": "python",
   "pygments_lexer": "ipython3",
   "version": "3.5.2"
  }
 },
 "nbformat": 4,
 "nbformat_minor": 0
}
