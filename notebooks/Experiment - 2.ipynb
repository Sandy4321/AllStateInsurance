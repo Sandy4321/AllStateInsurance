{
 "cells": [
  {
   "cell_type": "markdown",
   "metadata": {},
   "source": [
    "```\n",
    "Questions :\n",
    "\n",
    "1. Categorical features are way more than numerical features, can we use this fact in some way ?\n",
    "2. How to deal with categorical features, one hot encoding would yield many features and which would increase the dimensionality of the problem ?\n",
    "3. Do continuous variables need any kind of transformation ?\n",
    "\n",
    "```"
   ]
  },
  {
   "cell_type": "markdown",
   "metadata": {},
   "source": [
    "```\n",
    "\n",
    "Ideas :\n",
    "\n",
    "Forward feature selection based on minimizing mae with 5-fold cross validation\n",
    "\n",
    "```"
   ]
  },
  {
   "cell_type": "code",
   "execution_count": 3,
   "metadata": {
    "collapsed": true
   },
   "outputs": [],
   "source": [
    "import numpy as np\n",
    "import pandas as pd\n",
    "import os, sys\n",
    "\n",
    "from sklearn.cross_validation import StratifiedKFold, train_test_split\n",
    "from sklearn.ensemble import RandomForestRegressor\n",
    "from sklearn.metrics import mean_absolute_error\n",
    "\n",
    "import xgboost as xgb\n",
    "\n",
    "import warnings\n",
    "warnings.filterwarnings('ignore')\n",
    "\n",
    "basepath = os.path.expanduser('~/Desktop/src/AllState_Claims_Severity/')\n",
    "sys.path.append(os.path.join(basepath, 'src'))\n",
    "\n",
    "np.random.seed(2016)\n",
    "\n",
    "from data import *\n",
    "from utils import *"
   ]
  },
  {
   "cell_type": "code",
   "execution_count": 4,
   "metadata": {
    "collapsed": false
   },
   "outputs": [],
   "source": [
    "# load files\n",
    "train      = pd.read_csv(os.path.join(basepath, 'data/raw/train.csv'))\n",
    "test       = pd.read_csv(os.path.join(basepath, 'data/raw/test.csv'))\n",
    "sample_sub = pd.read_csv(os.path.join(basepath, 'data/raw/sample_submission.csv'))"
   ]
  },
  {
   "cell_type": "code",
   "execution_count": 5,
   "metadata": {
    "collapsed": false
   },
   "outputs": [],
   "source": [
    "# create an indicator for somewhat precarious values for loss. ( only to reduce the number of training examples. )\n",
    "train['outlier_flag'] = train.loss.map(lambda x: int(x < 4e3))"
   ]
  },
  {
   "cell_type": "code",
   "execution_count": 6,
   "metadata": {
    "collapsed": true
   },
   "outputs": [],
   "source": [
    "# encode categorical variables\n",
    "train, test = encode_categorical_features(train, test)"
   ]
  },
  {
   "cell_type": "code",
   "execution_count": 5,
   "metadata": {
    "collapsed": false
   },
   "outputs": [],
   "source": [
    "# get stratified sample\n",
    "itrain, itest = get_stratified_sample(train.outlier_flag)"
   ]
  },
  {
   "cell_type": "code",
   "execution_count": 6,
   "metadata": {
    "collapsed": true
   },
   "outputs": [],
   "source": [
    "# subsample of data to work with\n",
    "train_sub = train.iloc[itrain]"
   ]
  },
  {
   "cell_type": "code",
   "execution_count": 7,
   "metadata": {
    "collapsed": true
   },
   "outputs": [],
   "source": [
    "# target variable\n",
    "y = np.log(train.loss)"
   ]
  },
  {
   "cell_type": "code",
   "execution_count": 25,
   "metadata": {
    "collapsed": true
   },
   "outputs": [],
   "source": [
    "def forward_feature_selection(df):\n",
    "    columns = df.columns\n",
    "    \n",
    "    # rearrange columns in such a way that target variables ( loss, outlier_flag ) is\n",
    "    # followed by continuous and categorical variables\n",
    "    \n",
    "    cont_columns = [col for col in columns if 'cont' in col]\n",
    "    cat_columns  = [col for col in columns if 'cat' in col]\n",
    "    \n",
    "    df = df[list(columns[-2:]) + cont_columns + cat_columns]\n",
    "    \n",
    "    y              = np.log(df.loss)\n",
    "    outlier_flag   = df.outlier_flag\n",
    "    \n",
    "    selected_features = []\n",
    "    features_to_test  = df.columns[2:]\n",
    "    \n",
    "    n_fold = 5\n",
    "    cv     = StratifiedKFold(outlier_flag, n_folds=n_fold, shuffle=True, random_state=23232)\n",
    "    \n",
    "    mae_cv_old      = 5000\n",
    "    is_improving    = True\n",
    "    \n",
    "    while is_improving:\n",
    "        mae_cvs = []\n",
    "        \n",
    "        for feature in features_to_test:\n",
    "            print('{}'.format(selected_features + [feature]))\n",
    "            \n",
    "            X = df[selected_features + [feature]]\n",
    "            \n",
    "            mae_cv = 0\n",
    "            \n",
    "            for i, (i_trn, i_val) in enumerate(cv, start=1):\n",
    "                est = xgb.XGBRegressor(seed=121212)\n",
    "                \n",
    "                est.fit(X.values[i_trn], y.values[i_trn])\n",
    "                yhat = np.exp(est.predict(X.values[i_val]))\n",
    "\n",
    "                mae = mean_absolute_error(np.exp(y.values[i_val]), yhat)\n",
    "                mae_cv += mae / n_fold\n",
    "\n",
    "            print('MAE CV: {}'.format(mae_cv))\n",
    "            mae_cvs.append(mae_cv)\n",
    "        \n",
    "        mae_cv_new = min(mae_cvs)\n",
    "\n",
    "        if mae_cv_new < mae_cv_old:\n",
    "            mae_cv_old = mae_cv_new\n",
    "            feature = list(features_to_test).pop(mae_cvs.index(mae_cv_new))\n",
    "            selected_features.append(feature)\n",
    "            print('selected features: {}'.format(selected_features))\n",
    "            \n",
    "            with open(os.path.join(basepath, 'data/processed/features_xgboost/selected_features.txt'), 'w') as f:\n",
    "                f.write('{}\\n'.format('\\n'.join(selected_features)))\n",
    "                f.close()\n",
    "        else:\n",
    "            is_improving = False\n",
    "            print('final selected features: {}'.format(selected_features))\n",
    "    \n",
    "    \n",
    "    print('saving selected feature names as a file')\n",
    "    with open(os.path.join(basepath, 'data/processed/features_xgboost/selected_features.txt'), 'w') as f:\n",
    "        f.write('{}\\n'.format('\\n'.join(selected_features)))\n",
    "        f.close()"
   ]
  },
  {
   "cell_type": "code",
   "execution_count": null,
   "metadata": {
    "collapsed": false
   },
   "outputs": [
    {
     "name": "stdout",
     "output_type": "stream",
     "text": [
      "['cont1']\n",
      "MAE CV: 1804.9347235146147\n",
      "['cont2']\n",
      "MAE CV: 1802.8956409659909\n",
      "['cont3']\n",
      "MAE CV: 1805.7440445749385\n",
      "['cont4']\n",
      "MAE CV: 1805.7020035767518\n",
      "['cont5']\n",
      "MAE CV: 1807.6281659436088\n",
      "['cont6']\n",
      "MAE CV: 1806.0229665168695\n",
      "['cont7']\n",
      "MAE CV: 1802.6861159704754\n",
      "['cont8']\n",
      "MAE CV: 1807.5520615071628\n",
      "['cont9']\n",
      "MAE CV: 1804.0166180093172\n",
      "['cont10']\n",
      "MAE CV: 1805.870466065785\n",
      "['cont11']\n",
      "MAE CV: 1803.8369697265314\n",
      "['cont12']\n",
      "MAE CV: 1803.481203910519\n",
      "['cont13']\n",
      "MAE CV: 1806.5451203881023\n",
      "['cont14']\n",
      "MAE CV: 1783.3221522273861\n",
      "['cat1']\n",
      "MAE CV: 1755.2089525031286\n",
      "['cat2']\n",
      "MAE CV: 1749.8383086108192\n",
      "['cat3']\n",
      "MAE CV: 1765.9024558534838\n",
      "['cat4']\n",
      "MAE CV: 1799.7595783223792\n",
      "['cat5']\n",
      "MAE CV: 1797.3212144493205\n",
      "['cat6']\n",
      "MAE CV: 1785.9792864729225\n",
      "['cat7']\n",
      "MAE CV: 1760.4777183341694\n",
      "['cat8']\n",
      "MAE CV: 1801.1656725853848\n",
      "['cat9']\n",
      "MAE CV: 1755.2649805580431\n",
      "['cat10']\n",
      "MAE CV: 1716.4392883366938\n",
      "['cat11']\n",
      "MAE CV: 1752.3649031270375\n",
      "['cat12']\n",
      "MAE CV: 1685.4052196905805\n",
      "['cat13']\n",
      "MAE CV: 1755.5969356434857\n",
      "['cat14']\n",
      "MAE CV: 1801.79637899293\n",
      "['cat15']\n",
      "MAE CV: 1809.815160024333\n",
      "['cat16']\n",
      "MAE CV: 1763.9472763495226\n",
      "['cat17']\n",
      "MAE CV: 1804.6486253708374\n",
      "['cat18']\n",
      "MAE CV: 1807.9748031020308\n",
      "['cat19']\n",
      "MAE CV: 1808.29411007341\n",
      "['cat20']\n",
      "MAE CV: 1808.7712770967748\n",
      "['cat21']\n",
      "MAE CV: 1809.816534308658\n",
      "['cat22']\n",
      "MAE CV: 1809.846258434307\n",
      "['cat23']\n",
      "MAE CV: 1781.4234059170094\n",
      "['cat24']\n",
      "MAE CV: 1800.269723459106\n",
      "['cat25']\n",
      "MAE CV: 1799.6797057989932\n",
      "['cat26']\n",
      "MAE CV: 1805.4784234065835\n",
      "['cat27']\n",
      "MAE CV: 1809.8778063000436\n",
      "['cat28']\n",
      "MAE CV: 1792.5299832579442\n",
      "['cat29']\n",
      "MAE CV: 1803.264637627846\n",
      "['cat30']\n",
      "MAE CV: 1807.4724611359604\n",
      "['cat31']\n",
      "MAE CV: 1809.581049707103\n",
      "['cat32']\n",
      "MAE CV: 1809.0785447920716\n",
      "['cat33']\n",
      "MAE CV: 1808.4259803358714\n",
      "['cat34']\n",
      "MAE CV: 1808.9390935617273\n",
      "['cat35']\n",
      "MAE CV: 1809.362704205318\n",
      "['cat36']\n",
      "MAE CV: 1782.6760584659023\n",
      "['cat37']\n",
      "MAE CV: 1809.438377837929\n",
      "['cat38']\n",
      "MAE CV: 1796.3166461035817\n",
      "['cat39']\n",
      "MAE CV: 1809.2763116433562\n",
      "['cat40']\n",
      "MAE CV: 1792.820462026182\n",
      "['cat41']\n",
      "MAE CV: 1801.1137255638832\n",
      "['cat42']\n",
      "MAE CV: 1809.0349888387523\n",
      "['cat43']\n",
      "MAE CV: 1807.335098956576\n",
      "['cat44']\n",
      "MAE CV: 1804.1686451821124\n",
      "['cat45']\n",
      "MAE CV: 1803.8528856126081\n",
      "['cat46']\n",
      "MAE CV: 1807.8514768776715\n",
      "['cat47']\n",
      "MAE CV: 1808.8932218694397\n",
      "['cat48']\n",
      "MAE CV: 1809.548496253176\n",
      "['cat49']\n",
      "MAE CV: 1809.5574982292997\n",
      "['cat50']\n",
      "MAE CV: 1787.959278660468\n",
      "['cat51']\n",
      "MAE CV: 1808.8443341498958\n",
      "['cat52']\n",
      "MAE CV: 1809.3649670610844\n",
      "['cat53']\n",
      "MAE CV: 1806.5249239537306\n",
      "['cat54']\n",
      "MAE CV: 1809.8776200354728\n",
      "['cat55']\n",
      "MAE CV: 1809.578600393626\n",
      "['cat56']\n",
      "MAE CV: 1809.569540033689\n",
      "['cat57']\n",
      "MAE CV: 1737.6153004301016\n",
      "['cat58']\n",
      "MAE CV: 1809.0005335140472\n",
      "['cat59']\n",
      "MAE CV: 1808.4554946913179\n",
      "['cat60']\n",
      "MAE CV: 1809.5264950435655\n",
      "['cat61']\n",
      "MAE CV: 1808.5791436346467\n",
      "['cat62']\n",
      "MAE CV: 1809.746673073073\n",
      "['cat63']\n",
      "MAE CV: 1809.8054578808676\n",
      "['cat64']\n",
      "MAE CV: 1809.6177621919726\n",
      "['cat65']\n",
      "MAE CV: 1805.5886255733953\n",
      "['cat66']\n",
      "MAE CV: 1805.3803415137504\n",
      "['cat67']\n",
      "MAE CV: 1808.5545311681135\n",
      "['cat68']\n",
      "MAE CV: 1809.8074018811337\n",
      "['cat69']\n",
      "MAE CV: 1809.3636098143427\n",
      "['cat70']\n",
      "MAE CV: 1809.826460973246\n",
      "['cat71']\n",
      "MAE CV: 1808.0450410337876\n",
      "['cat72']\n",
      "MAE CV: 1760.4288090221528\n",
      "['cat73']\n",
      "MAE CV: 1783.7645965114211\n",
      "['cat74']\n",
      "MAE CV: 1809.2729791923987\n",
      "['cat75']\n",
      "MAE CV: 1808.950127379299\n",
      "['cat76']\n",
      "MAE CV: 1798.4164569739223\n",
      "['cat77']\n",
      "MAE CV: 1809.2586677828738\n",
      "['cat78']\n",
      "MAE CV: 1806.5493329796877\n",
      "['cat79']\n",
      "MAE CV: 1613.6434452221433\n",
      "['cat80']\n",
      "MAE CV: 1566.2778714028555\n",
      "['cat81']\n",
      "MAE CV: 1727.5180196419378\n",
      "['cat82']\n",
      "MAE CV: 1798.3871194216263\n",
      "['cat83']\n",
      "MAE CV: 1809.188560470116\n",
      "['cat84']\n",
      "MAE CV: 1807.6904401894108\n",
      "['cat85']\n",
      "MAE CV: 1803.1920169046932\n",
      "['cat86']\n",
      "MAE CV: 1808.553022584149\n",
      "['cat87']\n",
      "MAE CV: 1678.5525098569233\n",
      "['cat88']\n",
      "MAE CV: 1809.6582919572986\n",
      "['cat89']\n",
      "MAE CV: 1760.5459564508228\n",
      "['cat90']\n",
      "MAE CV: 1765.8180396336563\n",
      "['cat91']\n",
      "MAE CV: 1789.7171622300343\n",
      "['cat92']\n",
      "MAE CV: 1809.1010210147222\n",
      "['cat93']\n",
      "MAE CV: 1808.9502071398656\n",
      "['cat94']\n",
      "MAE CV: 1807.419488720769\n",
      "['cat95']\n",
      "MAE CV: 1809.0960290355915\n",
      "['cat96']\n",
      "MAE CV: 1808.9829142380177\n",
      "['cat97']\n",
      "MAE CV: 1809.7047059270112\n",
      "['cat98']\n",
      "MAE CV: 1808.5483661575377\n",
      "['cat99']\n",
      "MAE CV: 1807.724929961536\n",
      "['cat100']\n",
      "MAE CV: 1688.2343297385805\n",
      "['cat101']\n",
      "MAE CV: 1649.4009711011672\n",
      "['cat102']\n",
      "MAE CV: 1800.8007399378396\n",
      "['cat103']\n",
      "MAE CV: 1777.3388368544934\n",
      "['cat104']\n",
      "MAE CV: 1808.4975675541828\n",
      "['cat105']\n",
      "MAE CV: 1806.2170141639237\n",
      "['cat106']\n",
      "MAE CV: 1807.7295171612227\n",
      "['cat107']\n",
      "MAE CV: 1807.8983127451938\n",
      "['cat108']\n",
      "MAE CV: 1805.3623627692741\n",
      "['cat109']\n",
      "MAE CV: 1808.4075722745733\n",
      "['cat110']\n",
      "MAE CV: 1806.5956273160352\n",
      "['cat111']\n",
      "MAE CV: 1780.0475395667168\n",
      "['cat112']\n",
      "MAE CV: 1792.200305750104\n",
      "['cat113']\n",
      "MAE CV: 1802.444647634785\n",
      "['cat114']\n",
      "MAE CV: 1757.3078742438713\n",
      "['cat115']\n",
      "MAE CV: 1809.263105445952\n",
      "['cat116']\n",
      "MAE CV: 1802.508468130427\n",
      "selected features: ['cat80']\n",
      "['cat80', 'cont1']\n",
      "MAE CV: 1558.686649562318\n",
      "['cat80', 'cont2']\n",
      "MAE CV: 1534.3082303690026\n",
      "['cat80', 'cont3']\n",
      "MAE CV: 1552.7758665538365\n",
      "['cat80', 'cont4']\n",
      "MAE CV: 1560.5090964185677\n",
      "['cat80', 'cont5']\n",
      "MAE CV: 1562.8977013007748\n",
      "['cat80', 'cont6']\n",
      "MAE CV: 1556.894984189546\n",
      "['cat80', 'cont7']\n",
      "MAE CV: 1550.5057080577083\n",
      "['cat80', 'cont8']\n",
      "MAE CV: 1560.9000541818868\n",
      "['cat80', 'cont9']\n",
      "MAE CV: 1554.9205877107074\n",
      "['cat80', 'cont10']\n",
      "MAE CV: 1554.9807411112447\n",
      "['cat80', 'cont11']\n",
      "MAE CV: 1550.0247074622634\n",
      "['cat80', 'cont12']\n",
      "MAE CV: 1549.2196828397382\n",
      "['cat80', 'cont13']\n",
      "MAE CV: 1557.8855376459278\n",
      "['cat80', 'cont14']\n",
      "MAE CV: 1547.2653467726464\n",
      "['cat80', 'cat1']\n"
     ]
    }
   ],
   "source": [
    "forward_feature_selection(train)"
   ]
  },
  {
   "cell_type": "code",
   "execution_count": 9,
   "metadata": {
    "collapsed": true
   },
   "outputs": [],
   "source": [
    "selected_features = [\n",
    "                        'cat80',\n",
    "                        'cat101',\n",
    "                        'cat100',\n",
    "                        'cat57',\n",
    "                        'cat114',\n",
    "                        'cat79',\n",
    "                        'cat44',\n",
    "                        'cat26',\n",
    "                        'cat94',\n",
    "                        'cat38',\n",
    "                        'cat32',\n",
    "                        'cat35',\n",
    "                        'cat67',\n",
    "                        'cat59'\n",
    "                   ]"
   ]
  },
  {
   "cell_type": "code",
   "execution_count": 10,
   "metadata": {
    "collapsed": false
   },
   "outputs": [],
   "source": [
    "X = train[selected_features]"
   ]
  },
  {
   "cell_type": "code",
   "execution_count": 11,
   "metadata": {
    "collapsed": true
   },
   "outputs": [],
   "source": [
    "itrain, itest = train_test_split(range(len(X)), stratify=train.outlier_flag, test_size=0.2, random_state=11232)"
   ]
  },
  {
   "cell_type": "code",
   "execution_count": 12,
   "metadata": {
    "collapsed": true
   },
   "outputs": [],
   "source": [
    "X_train = X.iloc[itrain]\n",
    "X_test  = X.iloc[itest]\n",
    "\n",
    "y_train = y.iloc[itrain]\n",
    "y_test  = y.iloc[itest]"
   ]
  },
  {
   "cell_type": "code",
   "execution_count": 19,
   "metadata": {
    "collapsed": false
   },
   "outputs": [
    {
     "data": {
      "text/plain": [
       "RandomForestRegressor(bootstrap=True, criterion='mse', max_depth=13,\n",
       "           max_features='auto', max_leaf_nodes=None, min_samples_leaf=1,\n",
       "           min_samples_split=2, min_weight_fraction_leaf=0.0,\n",
       "           n_estimators=100, n_jobs=-1, oob_score=False,\n",
       "           random_state=12121, verbose=0, warm_start=False)"
      ]
     },
     "execution_count": 19,
     "metadata": {},
     "output_type": "execute_result"
    }
   ],
   "source": [
    "clf = RandomForestRegressor(n_estimators=100, max_depth=13, n_jobs=-1, random_state=12121)\n",
    "clf.fit(X_train, y_train)"
   ]
  },
  {
   "cell_type": "code",
   "execution_count": 20,
   "metadata": {
    "collapsed": false
   },
   "outputs": [
    {
     "name": "stdout",
     "output_type": "stream",
     "text": [
      "MAE on unseen examples  1309.51065277\n"
     ]
    }
   ],
   "source": [
    "y_hat = np.exp(clf.predict(X_test))\n",
    "print('MAE on unseen examples ', mean_absolute_error(np.exp(y_test), y_hat))"
   ]
  },
  {
   "cell_type": "code",
   "execution_count": null,
   "metadata": {
    "collapsed": true
   },
   "outputs": [],
   "source": []
  }
 ],
 "metadata": {
  "kernelspec": {
   "display_name": "Python [Root]",
   "language": "python",
   "name": "Python [Root]"
  },
  "language_info": {
   "codemirror_mode": {
    "name": "ipython",
    "version": 3
   },
   "file_extension": ".py",
   "mimetype": "text/x-python",
   "name": "python",
   "nbconvert_exporter": "python",
   "pygments_lexer": "ipython3",
   "version": "3.5.2"
  }
 },
 "nbformat": 4,
 "nbformat_minor": 0
}
