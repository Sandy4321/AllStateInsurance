{
 "cells": [
  {
   "cell_type": "code",
   "execution_count": 18,
   "metadata": {
    "collapsed": true
   },
   "outputs": [],
   "source": [
    "%matplotlib inline\n",
    "\n",
    "import numpy as np\n",
    "import pandas as pd\n",
    "import os, sys\n",
    "\n",
    "import warnings\n",
    "warnings.filterwarnings('ignore')\n",
    "\n",
    "from sklearn.decomposition import PCA\n",
    "from sklearn.cross_validation import train_test_split, KFold\n",
    "from sklearn.ensemble import RandomForestRegressor\n",
    "from sklearn.metrics import mean_absolute_error\n",
    "\n",
    "import xgboost as xgb\n",
    "\n",
    "basepath = os.path.expanduser('~/Desktop/src/AllState_Claims_Severity/')\n",
    "sys.path.append(os.path.join(basepath, 'src'))\n",
    "\n",
    "np.random.seed(12)"
   ]
  },
  {
   "cell_type": "code",
   "execution_count": 2,
   "metadata": {
    "collapsed": true
   },
   "outputs": [],
   "source": [
    "train      = pd.read_csv(os.path.join(basepath, 'data/raw/train.csv'))\n",
    "test       = pd.read_csv(os.path.join(basepath, 'data/raw/test.csv'))\n",
    "sample_sub = pd.read_csv(os.path.join(basepath, 'data/raw/sample_submission.csv'))"
   ]
  },
  {
   "cell_type": "code",
   "execution_count": 3,
   "metadata": {
    "collapsed": true
   },
   "outputs": [],
   "source": [
    "# append train and test\n",
    "data = pd.concat((train, test))"
   ]
  },
  {
   "cell_type": "code",
   "execution_count": 7,
   "metadata": {
    "collapsed": true
   },
   "outputs": [],
   "source": [
    "# target variable\n",
    "y = np.log(train.loss)"
   ]
  },
  {
   "cell_type": "code",
   "execution_count": 4,
   "metadata": {
    "collapsed": true
   },
   "outputs": [],
   "source": [
    "# categorical and continuous variables\n",
    "categorical_variables = [col for col in data.columns if 'cat' in col]\n",
    "continuous_variables  = [col for col in data.columns if 'cont' in col]"
   ]
  },
  {
   "cell_type": "code",
   "execution_count": 6,
   "metadata": {
    "collapsed": true
   },
   "outputs": [],
   "source": [
    "data_cont = data[continuous_variables]"
   ]
  },
  {
   "cell_type": "code",
   "execution_count": 12,
   "metadata": {
    "collapsed": true
   },
   "outputs": [],
   "source": [
    "pca = PCA(n_components=10, whiten=True)\n",
    "pca.fit(data_cont)\n",
    "data_rem = pca.transform(data_cont)"
   ]
  },
  {
   "cell_type": "code",
   "execution_count": 13,
   "metadata": {
    "collapsed": false
   },
   "outputs": [
    {
     "name": "stdout",
     "output_type": "stream",
     "text": [
      "Explained variance by the components 0.9858669971480126\n"
     ]
    }
   ],
   "source": [
    "print('Explained variance by the components {}'.format(np.sum(pca.explained_variance_ratio_)))"
   ]
  },
  {
   "cell_type": "code",
   "execution_count": 15,
   "metadata": {
    "collapsed": true
   },
   "outputs": [],
   "source": [
    "train_ = data_cont[:len(train)]\n",
    "test_  = data_cont[len(train):]"
   ]
  },
  {
   "cell_type": "code",
   "execution_count": 16,
   "metadata": {
    "collapsed": true
   },
   "outputs": [],
   "source": [
    "itrain, itest = train_test_split(range(len(train_)), test_size=0.2, random_state=1231)\n",
    "\n",
    "X_train = train_.iloc[itrain]\n",
    "X_test  = train_.iloc[itest]\n",
    "\n",
    "y_train = y.iloc[itrain]\n",
    "y_test  = y.iloc[itest]"
   ]
  },
  {
   "cell_type": "code",
   "execution_count": 20,
   "metadata": {
    "collapsed": false
   },
   "outputs": [
    {
     "name": "stdout",
     "output_type": "stream",
     "text": [
      "Fold: 0\n",
      "MAE on unseen examples: 1935.4824954172411\n",
      "Fold: 1\n",
      "MAE on unseen examples: 1937.2655072917094\n",
      "Fold: 2\n",
      "MAE on unseen examples: 1949.493133571672\n"
     ]
    }
   ],
   "source": [
    "kf = KFold(len(X_train), n_folds=3, random_state=12313)\n",
    "\n",
    "for i, (itr, ite) in enumerate(kf):\n",
    "    print('Fold: {}'.format(i))\n",
    "    \n",
    "    Xtr = X_train.iloc[itr]\n",
    "    Xte = X_train.iloc[ite]\n",
    "    \n",
    "    ytr = y_train.iloc[itr]\n",
    "    yte = y_train.iloc[ite]\n",
    "    \n",
    "    est = RandomForestRegressor(n_jobs=-1, random_state=123111)\n",
    "    est.fit(Xtr, ytr)\n",
    "    \n",
    "    yhat = est.predict(Xte)\n",
    "    \n",
    "    print('MAE on unseen examples: {}'.format(mean_absolute_error(np.exp(yte), np.exp(yhat))))\n",
    "    "
   ]
  },
  {
   "cell_type": "code",
   "execution_count": null,
   "metadata": {
    "collapsed": true
   },
   "outputs": [],
   "source": []
  }
 ],
 "metadata": {
  "kernelspec": {
   "display_name": "Python [Root]",
   "language": "python",
   "name": "Python [Root]"
  },
  "language_info": {
   "codemirror_mode": {
    "name": "ipython",
    "version": 3
   },
   "file_extension": ".py",
   "mimetype": "text/x-python",
   "name": "python",
   "nbconvert_exporter": "python",
   "pygments_lexer": "ipython3",
   "version": "3.5.2"
  }
 },
 "nbformat": 4,
 "nbformat_minor": 0
}
