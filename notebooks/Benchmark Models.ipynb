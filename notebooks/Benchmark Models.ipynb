{
 "cells": [
  {
   "cell_type": "code",
   "execution_count": 2,
   "metadata": {
    "collapsed": true
   },
   "outputs": [],
   "source": [
    "%matplotlib inline\n",
    "\n",
    "import numpy  as np\n",
    "import pandas as pd\n",
    "import os, sys\n",
    "\n",
    "import warnings\n",
    "warnings.filterwarnings('ignore')\n",
    "\n",
    "from sklearn.cross_validation import train_test_split\n",
    "from sklearn.ensemble import RandomForestRegressor\n",
    "from sklearn.metrics import mean_absolute_error\n",
    "from sklearn.preprocessing import LabelEncoder, OneHotEncoder\n",
    "from sklearn.pipeline import Pipeline\n",
    "\n",
    "basepath = os.path.expanduser('~/Desktop/src/AllState_Claims_Severity/')\n",
    "sys.path.append(os.path.join(basepath, 'src'))\n",
    "\n",
    "np.random.seed(2016)"
   ]
  },
  {
   "cell_type": "code",
   "execution_count": 7,
   "metadata": {
    "collapsed": false
   },
   "outputs": [],
   "source": [
    "train      = pd.read_csv(os.path.join(basepath, 'data/raw/train.csv'), usecols=['id', 'cat2', \\\n",
    "                                                                                'cat6', 'cat10', \\\n",
    "                                                                                'cat4', 'loss'])\n",
    "test       = pd.read_csv(os.path.join(basepath, 'data/raw/test.csv'), usecols=['id', 'cat2', \\\n",
    "                                                                               'cat4', 'cat6',\\\n",
    "                                                                               'cat10'\n",
    "                                                                              ])\n",
    "sample_sub = pd.read_csv(os.path.join(basepath, 'data/raw/sample_submission.csv'))"
   ]
  },
  {
   "cell_type": "code",
   "execution_count": 8,
   "metadata": {
    "collapsed": false
   },
   "outputs": [],
   "source": [
    "features = ['cat2', 'cat4', 'cat6', 'cat10']"
   ]
  },
  {
   "cell_type": "code",
   "execution_count": 9,
   "metadata": {
    "collapsed": true
   },
   "outputs": [],
   "source": [
    "def encode_categorical_features(train, test,  feature):\n",
    "    train_ = train.copy()\n",
    "    test_  = test.copy()\n",
    "    \n",
    "    encoder = LabelEncoder()\n",
    "    encoder.fit(pd.concat((train_[feature], test_[feature])))\n",
    "    \n",
    "    train_[feature] = encoder.transform(train_[feature])\n",
    "    test_[feature]  = encoder.transform(test_[feature])\n",
    "    \n",
    "    return train_[feature], test_[feature]\n",
    "\n",
    "def one_hot_encoding(train, test, feature):\n",
    "    train_   = train.copy()\n",
    "    test_    = test.copy()\n",
    "    \n",
    "    encoder = OneHotEncoder()\n",
    "    encoder.fit(pd.concat((train_[feature], test_[feature])))\n",
    "    \n",
    "    train_[feature] = encoder.transform(train_[feature])\n",
    "    test_[feature]  = encoder.transform(test_[feature])\n",
    "    \n",
    "    return train_[feature], test_[feature]"
   ]
  },
  {
   "cell_type": "code",
   "execution_count": 10,
   "metadata": {
    "collapsed": false
   },
   "outputs": [],
   "source": [
    "train['cat2'], test['cat2'] = encode_categorical_features(train, test, 'cat2')\n",
    "train['cat4'], test['cat4'] = encode_categorical_features(train, test, 'cat4')\n",
    "train['cat6'], test['cat6'] = encode_categorical_features(train, test, 'cat6')\n",
    "train['cat10'], test['cat10'] = encode_categorical_features(train, test, 'cat10')\n",
    "\n",
    "# train['cat2'], test['cat2'] = one_hot_encoding(train, test, 'cat2')\n",
    "# train['cat4'], test['cat4'] = one_hot_encoding(train, test, 'cat4')"
   ]
  },
  {
   "cell_type": "code",
   "execution_count": 11,
   "metadata": {
    "collapsed": false
   },
   "outputs": [],
   "source": [
    "itrain, itest = train_test_split(range(len(train)), test_size=0.2, random_state=40)\n",
    "\n",
    "X_train = train.iloc[itrain][features]\n",
    "X_test  = train.iloc[itest][features]\n",
    "\n",
    "y_train = train.iloc[itrain].loss\n",
    "y_test  = train.iloc[itest].loss"
   ]
  },
  {
   "cell_type": "code",
   "execution_count": 25,
   "metadata": {
    "collapsed": false
   },
   "outputs": [],
   "source": [
    "pipeline = Pipeline([\n",
    "        ('model', RandomForestRegressor(n_estimators=10, n_jobs=-1, random_state=11))\n",
    "    ])"
   ]
  },
  {
   "cell_type": "code",
   "execution_count": 26,
   "metadata": {
    "collapsed": false
   },
   "outputs": [
    {
     "data": {
      "text/plain": [
       "Pipeline(steps=[('model', RandomForestRegressor(bootstrap=True, criterion='mse', max_depth=10,\n",
       "           max_features='auto', max_leaf_nodes=None, min_samples_leaf=1,\n",
       "           min_samples_split=2, min_weight_fraction_leaf=0.0,\n",
       "           n_estimators=100, n_jobs=1, oob_score=False, random_state=11,\n",
       "           verbose=0, warm_start=False))])"
      ]
     },
     "execution_count": 26,
     "metadata": {},
     "output_type": "execute_result"
    }
   ],
   "source": [
    "pipeline.fit(X_train, y_train)"
   ]
  },
  {
   "cell_type": "code",
   "execution_count": 27,
   "metadata": {
    "collapsed": false
   },
   "outputs": [
    {
     "name": "stdout",
     "output_type": "stream",
     "text": [
      "MAE on unseen examples: 1783.172463\n"
     ]
    }
   ],
   "source": [
    "ypred = pipeline.predict(X_test)\n",
    "print('MAE on unseen examples: %f'%(mean_absolute_error(y_test, ypred)))"
   ]
  },
  {
   "cell_type": "markdown",
   "metadata": {},
   "source": [
    "** Training **"
   ]
  },
  {
   "cell_type": "code",
   "execution_count": 28,
   "metadata": {
    "collapsed": true
   },
   "outputs": [],
   "source": [
    "pipeline.fit(train[features], train.loss)\n",
    "predictions = pipeline.predict(test[features])"
   ]
  },
  {
   "cell_type": "markdown",
   "metadata": {},
   "source": [
    "** Submissions **"
   ]
  },
  {
   "cell_type": "code",
   "execution_count": 30,
   "metadata": {
    "collapsed": false
   },
   "outputs": [],
   "source": [
    "sample_sub['loss'] = predictions\n",
    "sample_sub.to_csv(os.path.join(basepath, 'submissions/basic_benchmark.csv'), index=False)"
   ]
  },
  {
   "cell_type": "code",
   "execution_count": null,
   "metadata": {
    "collapsed": true
   },
   "outputs": [],
   "source": []
  }
 ],
 "metadata": {
  "kernelspec": {
   "display_name": "Python [Root]",
   "language": "python",
   "name": "Python [Root]"
  },
  "language_info": {
   "codemirror_mode": {
    "name": "ipython",
    "version": 3
   },
   "file_extension": ".py",
   "mimetype": "text/x-python",
   "name": "python",
   "nbconvert_exporter": "python",
   "pygments_lexer": "ipython3",
   "version": "3.5.2"
  }
 },
 "nbformat": 4,
 "nbformat_minor": 0
}
