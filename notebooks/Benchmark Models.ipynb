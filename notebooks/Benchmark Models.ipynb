{
 "cells": [
  {
   "cell_type": "markdown",
   "metadata": {},
   "source": [
    "* Find out the features that take up multiple values.\n",
    "* One Hot Encode them and see which of them having the maximum impact on the overall performance.\n",
    "* Include those variables with all the other variables."
   ]
  },
  {
   "cell_type": "code",
   "execution_count": 1,
   "metadata": {
    "collapsed": true
   },
   "outputs": [],
   "source": [
    "%matplotlib inline\n",
    "\n",
    "import numpy  as np\n",
    "import pandas as pd\n",
    "import os, sys\n",
    "\n",
    "import warnings\n",
    "warnings.filterwarnings('ignore')\n",
    "\n",
    "from sklearn.cross_validation import train_test_split\n",
    "from sklearn.ensemble import RandomForestRegressor\n",
    "from sklearn.metrics import mean_absolute_error\n",
    "from sklearn.preprocessing import LabelEncoder\n",
    "from sklearn.feature_extraction import DictVectorizer\n",
    "from sklearn.pipeline import Pipeline\n",
    "\n",
    "basepath = os.path.expanduser('~/Desktop/src/AllState_Claims_Severity/')\n",
    "sys.path.append(os.path.join(basepath, 'src'))\n",
    "\n",
    "np.random.seed(2016)"
   ]
  },
  {
   "cell_type": "code",
   "execution_count": 2,
   "metadata": {
    "collapsed": false
   },
   "outputs": [],
   "source": [
    "train      = pd.read_csv(os.path.join(basepath, 'data/raw/train.csv'), usecols=['id', 'cat2', \\\n",
    "                                                                                'cat6', 'cat10', \\\n",
    "                                                                                'cat4', 'cat11',\\\n",
    "                                                                                'cat23', 'cat36',\\\n",
    "                                                                                'cat57', 'cat74',\\\n",
    "                                                                                'cat75', 'cat97',\\\n",
    "                                                                                'cat100', 'cat101',\\\n",
    "                                                                                'cat104', 'cat105',\\\n",
    "                                                                                'cat106', 'cat109',\\\n",
    "                                                                                'cat110', 'cat112',\\\n",
    "                                                                                'loss'])\n",
    "\n",
    "test       = pd.read_csv(os.path.join(basepath, 'data/raw/test.csv'), usecols=['id', 'cat2',\\\n",
    "                                                                               'cat4', 'cat6',\\\n",
    "                                                                               'cat10', 'cat11',\\\n",
    "                                                                               'cat23', 'cat36',\\\n",
    "                                                                               'cat57', 'cat74',\\\n",
    "                                                                               'cat75', 'cat97',\\\n",
    "                                                                               'cat100', 'cat101',\\\n",
    "                                                                               'cat104', 'cat105',\\\n",
    "                                                                               'cat106', 'cat109',\\\n",
    "                                                                               'cat110', 'cat112',\\\n",
    "                                                                              ])\n",
    "\n",
    "sample_sub = pd.read_csv(os.path.join(basepath, 'data/raw/sample_submission.csv'))"
   ]
  },
  {
   "cell_type": "code",
   "execution_count": 3,
   "metadata": {
    "collapsed": false
   },
   "outputs": [],
   "source": [
    "features = [\n",
    "#             'cat2', 'cat4', 'cat6', 'cat10',\\\n",
    "#             'cat11', 'cat23', 'cat36',\\\n",
    "#             'cat57', 'cat74',\\\n",
    "#             'cat75', 'cat97',\\\n",
    "            'cat100', 'cat101',\\\n",
    "            'cat104', 'cat105',\\\n",
    "            'cat106', 'cat109',\\\n",
    "            'cat110', 'cat112'\n",
    "           ]"
   ]
  },
  {
   "cell_type": "code",
   "execution_count": 4,
   "metadata": {
    "collapsed": true
   },
   "outputs": [],
   "source": [
    "def encode_categorical_features(train, test,  feature):\n",
    "    train_ = train.copy()\n",
    "    test_  = test.copy()\n",
    "    \n",
    "    encoder = LabelEncoder()\n",
    "    encoder.fit(pd.concat((train_[feature], test_[feature])))\n",
    "    \n",
    "    train_[feature] = encoder.transform(train_[feature])\n",
    "    test_[feature]  = encoder.transform(test_[feature])\n",
    "    \n",
    "    return train_[feature], test_[feature]\n",
    "\n",
    "def label_encoding(train, test, features, encoding_func):\n",
    "    for feat in features:\n",
    "        train[feat], test[feat] = encoding_func(train, test, feat)\n",
    "    \n",
    "    return train, test"
   ]
  },
  {
   "cell_type": "markdown",
   "metadata": {},
   "source": [
    "** Label Encoding **"
   ]
  },
  {
   "cell_type": "code",
   "execution_count": 6,
   "metadata": {
    "collapsed": false
   },
   "outputs": [],
   "source": [
    "train, test = label_encoding(train, test, features, encode_categorical_features)"
   ]
  },
  {
   "cell_type": "markdown",
   "metadata": {},
   "source": [
    "** One Hot Encoding **"
   ]
  },
  {
   "cell_type": "code",
   "execution_count": 46,
   "metadata": {
    "collapsed": false
   },
   "outputs": [],
   "source": [
    "\n",
    "train_vec = pd.get_dummies(train['cat104'].astype('category', categories=set(list(train['cat104']) + list(test['cat104']))))\n",
    "test_vec  = pd.get_dummies(test['cat104'].astype('category', categories=set(list(train['cat104']) + list(test['cat104']))))"
   ]
  },
  {
   "cell_type": "code",
   "execution_count": 47,
   "metadata": {
    "collapsed": false
   },
   "outputs": [],
   "source": [
    "itrain, itest = train_test_split(range(len(train_vec)), test_size=0.2, random_state=40)\n",
    "\n",
    "X_train = train_vec.iloc[itrain]\n",
    "X_test  = train_vec.iloc[itest]\n",
    "\n",
    "y_train = train.iloc[itrain].loss\n",
    "y_test  = train.iloc[itest].loss"
   ]
  },
  {
   "cell_type": "code",
   "execution_count": 49,
   "metadata": {
    "collapsed": false
   },
   "outputs": [],
   "source": [
    "pipeline = Pipeline([\n",
    "        ('model', RandomForestRegressor(n_estimators=10, max_depth=10, n_jobs=-1, random_state=11))\n",
    "    ])"
   ]
  },
  {
   "cell_type": "code",
   "execution_count": 50,
   "metadata": {
    "collapsed": false
   },
   "outputs": [
    {
     "data": {
      "text/plain": [
       "Pipeline(steps=[('model', RandomForestRegressor(bootstrap=True, criterion='mse', max_depth=10,\n",
       "           max_features='auto', max_leaf_nodes=None, min_samples_leaf=1,\n",
       "           min_samples_split=2, min_weight_fraction_leaf=0.0,\n",
       "           n_estimators=10, n_jobs=-1, oob_score=False, random_state=11,\n",
       "           verbose=0, warm_start=False))])"
      ]
     },
     "execution_count": 50,
     "metadata": {},
     "output_type": "execute_result"
    }
   ],
   "source": [
    "pipeline.fit(X_train, y_train)"
   ]
  },
  {
   "cell_type": "markdown",
   "metadata": {},
   "source": [
    "** Public Leaderboard Score: 1760.47142 **"
   ]
  },
  {
   "cell_type": "code",
   "execution_count": 51,
   "metadata": {
    "collapsed": false
   },
   "outputs": [
    {
     "name": "stdout",
     "output_type": "stream",
     "text": [
      "MAE on unseen examples: 1958.628273\n"
     ]
    }
   ],
   "source": [
    "ypred = pipeline.predict(X_test)\n",
    "print('MAE on unseen examples: %f'%(mean_absolute_error(y_test, ypred)))"
   ]
  },
  {
   "cell_type": "markdown",
   "metadata": {},
   "source": [
    "** Training **"
   ]
  },
  {
   "cell_type": "code",
   "execution_count": 28,
   "metadata": {
    "collapsed": true
   },
   "outputs": [],
   "source": [
    "pipeline.fit(train[features], train.loss)\n",
    "predictions = pipeline.predict(test[features])"
   ]
  },
  {
   "cell_type": "markdown",
   "metadata": {},
   "source": [
    "** Submissions **"
   ]
  },
  {
   "cell_type": "code",
   "execution_count": 30,
   "metadata": {
    "collapsed": false
   },
   "outputs": [],
   "source": [
    "sample_sub['loss'] = predictions\n",
    "sample_sub.to_csv(os.path.join(basepath, 'submissions/basic_benchmark.csv'), index=False)"
   ]
  },
  {
   "cell_type": "code",
   "execution_count": null,
   "metadata": {
    "collapsed": true
   },
   "outputs": [],
   "source": []
  }
 ],
 "metadata": {
  "kernelspec": {
   "display_name": "Python [Root]",
   "language": "python",
   "name": "Python [Root]"
  },
  "language_info": {
   "codemirror_mode": {
    "name": "ipython",
    "version": 3
   },
   "file_extension": ".py",
   "mimetype": "text/x-python",
   "name": "python",
   "nbconvert_exporter": "python",
   "pygments_lexer": "ipython3",
   "version": "3.5.2"
  }
 },
 "nbformat": 4,
 "nbformat_minor": 0
}
