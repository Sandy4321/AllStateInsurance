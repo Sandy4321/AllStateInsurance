{
 "cells": [
  {
   "cell_type": "markdown",
   "metadata": {},
   "source": [
    "* Find out the features that take up multiple values.\n",
    "* One Hot Encode them and see which of them having the maximum impact on the overall performance.\n",
    "* Include those variables with all the other variables."
   ]
  },
  {
   "cell_type": "code",
   "execution_count": 17,
   "metadata": {
    "collapsed": false
   },
   "outputs": [],
   "source": [
    "%matplotlib inline\n",
    "\n",
    "import numpy  as np\n",
    "import pandas as pd\n",
    "import os, sys\n",
    "\n",
    "import warnings\n",
    "warnings.filterwarnings('ignore')\n",
    "\n",
    "from sklearn.cross_validation import train_test_split\n",
    "from sklearn.ensemble import RandomForestRegressor\n",
    "from sklearn.metrics import mean_absolute_error\n",
    "from sklearn.preprocessing import LabelEncoder\n",
    "from sklearn.feature_extraction import DictVectorizer\n",
    "from sklearn.pipeline import Pipeline\n",
    "from sklearn.externals import joblib\n",
    "\n",
    "basepath = os.path.expanduser('~/Desktop/src/AllState_Claims_Severity/')\n",
    "sys.path.append(os.path.join(basepath, 'src'))\n",
    "\n",
    "from data import *\n",
    "\n",
    "np.random.seed(2016)"
   ]
  },
  {
   "cell_type": "code",
   "execution_count": 2,
   "metadata": {
    "collapsed": false
   },
   "outputs": [],
   "source": [
    "train      = pd.read_csv(os.path.join(basepath, 'data/raw/train.csv'))\n",
    "test       = pd.read_csv(os.path.join(basepath, 'data/raw/test.csv'))\n",
    "sample_sub = pd.read_csv(os.path.join(basepath, 'data/raw/sample_submission.csv'))"
   ]
  },
  {
   "cell_type": "code",
   "execution_count": 3,
   "metadata": {
    "collapsed": true
   },
   "outputs": [],
   "source": [
    "def encode_categorical_features(train, test,  feature):\n",
    "    train_ = train.copy()\n",
    "    test_  = test.copy()\n",
    "    \n",
    "    encoder = LabelEncoder()\n",
    "    encoder.fit(pd.concat((train_[feature], test_[feature])))\n",
    "    \n",
    "    train_[feature] = encoder.transform(train_[feature])\n",
    "    test_[feature]  = encoder.transform(test_[feature])\n",
    "    \n",
    "    return train_[feature], test_[feature]\n",
    "\n",
    "def label_encoding(train, test, features, encoding_func):\n",
    "    for feat in features:\n",
    "        train[feat], test[feat] = encoding_func(train, test, feat)\n",
    "    \n",
    "    return train, test"
   ]
  },
  {
   "cell_type": "markdown",
   "metadata": {},
   "source": [
    "** Multi valued features **"
   ]
  },
  {
   "cell_type": "code",
   "execution_count": 4,
   "metadata": {
    "collapsed": false
   },
   "outputs": [],
   "source": [
    "mv_features = get_multi_valued_features(train, test)"
   ]
  },
  {
   "cell_type": "markdown",
   "metadata": {},
   "source": [
    "** Label Encoding **"
   ]
  },
  {
   "cell_type": "code",
   "execution_count": 6,
   "metadata": {
    "collapsed": false
   },
   "outputs": [],
   "source": [
    "train, test = label_encoding(train, test, features, encode_categorical_features)"
   ]
  },
  {
   "cell_type": "markdown",
   "metadata": {},
   "source": [
    "** One Hot Encoding **"
   ]
  },
  {
   "cell_type": "code",
   "execution_count": 5,
   "metadata": {
    "collapsed": false
   },
   "outputs": [],
   "source": [
    "train_vec, test_vec = one_hot_encode_features(train, test, features)"
   ]
  },
  {
   "cell_type": "markdown",
   "metadata": {},
   "source": [
    "** Train Test Split **"
   ]
  },
  {
   "cell_type": "code",
   "execution_count": 6,
   "metadata": {
    "collapsed": false
   },
   "outputs": [],
   "source": [
    "itrain, itest = train_test_split(range(len(train)), test_size=0.2, random_state=40)"
   ]
  },
  {
   "cell_type": "code",
   "execution_count": null,
   "metadata": {
    "collapsed": true
   },
   "outputs": [],
   "source": [
    "X_train = train_vec.iloc[itrain]\n",
    "X_test  = train_vec.iloc[itest]\n",
    "\n",
    "y_train = train.iloc[itrain].loss\n",
    "y_test  = train.iloc[itest].loss"
   ]
  },
  {
   "cell_type": "markdown",
   "metadata": {},
   "source": [
    "** Multi-valued categorical variable feature selection **"
   ]
  },
  {
   "cell_type": "code",
   "execution_count": 24,
   "metadata": {
    "collapsed": true
   },
   "outputs": [],
   "source": [
    "def evaluate_features(train, test, y, itrain, itest, features):\n",
    "    evaluation = []\n",
    "    \n",
    "    for feat in features:\n",
    "        # one hot encode variable \n",
    "        train_vec, test_vec = one_hot_encode_features(train, test, [feat])\n",
    "        del test_vec\n",
    "        \n",
    "        X_train = train_vec.iloc[itrain]\n",
    "        X_test  = train_vec.iloc[itest]\n",
    "\n",
    "        y_train = y.iloc[itrain]\n",
    "        y_test  = y.iloc[itest]\n",
    "        \n",
    "        del train_vec\n",
    "        \n",
    "        # train model\n",
    "        pipeline = Pipeline([\n",
    "            ('model', RandomForestRegressor(n_estimators=10, n_jobs=-1, random_state=11))\n",
    "        ])\n",
    "        \n",
    "        pipeline.fit(X_train, y_train)\n",
    "        ypreds = pipeline.predict(X_test)\n",
    "        \n",
    "        score = mean_absolute_error(y_test, ypreds)\n",
    "        evaluation.append((feat, score))\n",
    "    \n",
    "    evaluation = np.array(sorted(evaluation, key=lambda x: x[1]))\n",
    "    joblib.dump(evaluation, os.path.join(basepath, 'data/processed/multi-valued-features/mv_feat_scores'))"
   ]
  },
  {
   "cell_type": "code",
   "execution_count": 25,
   "metadata": {
    "collapsed": false
   },
   "outputs": [],
   "source": [
    "evaluate_features(train, test, train.loss, itrain, itest, mv_features)"
   ]
  },
  {
   "cell_type": "markdown",
   "metadata": {},
   "source": [
    "** Public Leaderboard Score: 1760.47142 **"
   ]
  },
  {
   "cell_type": "code",
   "execution_count": 12,
   "metadata": {
    "collapsed": false
   },
   "outputs": [
    {
     "name": "stdout",
     "output_type": "stream",
     "text": [
      "MAE on unseen examples: 1763.876480\n"
     ]
    }
   ],
   "source": [
    "ypred = pipeline.predict(X_test)\n",
    "print('MAE on unseen examples: %f'%(mean_absolute_error(y_test, ypred)))"
   ]
  },
  {
   "cell_type": "markdown",
   "metadata": {},
   "source": [
    "** Training **"
   ]
  },
  {
   "cell_type": "code",
   "execution_count": 28,
   "metadata": {
    "collapsed": true
   },
   "outputs": [],
   "source": [
    "pipeline.fit(train[features], train.loss)\n",
    "predictions = pipeline.predict(test[features])"
   ]
  },
  {
   "cell_type": "markdown",
   "metadata": {},
   "source": [
    "** Submissions **"
   ]
  },
  {
   "cell_type": "code",
   "execution_count": 30,
   "metadata": {
    "collapsed": false
   },
   "outputs": [],
   "source": [
    "sample_sub['loss'] = predictions\n",
    "sample_sub.to_csv(os.path.join(basepath, 'submissions/basic_benchmark.csv'), index=False)"
   ]
  },
  {
   "cell_type": "code",
   "execution_count": null,
   "metadata": {
    "collapsed": true
   },
   "outputs": [],
   "source": []
  }
 ],
 "metadata": {
  "anaconda-cloud": {},
  "kernelspec": {
   "display_name": "Python [Root]",
   "language": "python",
   "name": "Python [Root]"
  },
  "language_info": {
   "codemirror_mode": {
    "name": "ipython",
    "version": 3
   },
   "file_extension": ".py",
   "mimetype": "text/x-python",
   "name": "python",
   "nbconvert_exporter": "python",
   "pygments_lexer": "ipython3",
   "version": "3.5.2"
  }
 },
 "nbformat": 4,
 "nbformat_minor": 0
}
