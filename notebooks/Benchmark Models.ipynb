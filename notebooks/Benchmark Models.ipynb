{
 "cells": [
  {
   "cell_type": "markdown",
   "metadata": {},
   "source": [
    "* Find out the features that take up multiple values.\n",
    "* One Hot Encode them and see which of them having the maximum impact on the overall performance.\n",
    "* Include those variables with all the other variables."
   ]
  },
  {
   "cell_type": "code",
   "execution_count": 2,
   "metadata": {
    "collapsed": false
   },
   "outputs": [],
   "source": [
    "%matplotlib inline\n",
    "\n",
    "import numpy  as np\n",
    "import pandas as pd\n",
    "import os, sys\n",
    "\n",
    "import warnings\n",
    "warnings.filterwarnings('ignore')\n",
    "\n",
    "from sklearn.cross_validation import train_test_split\n",
    "from sklearn.ensemble import RandomForestRegressor\n",
    "from sklearn.metrics import mean_absolute_error\n",
    "from sklearn.preprocessing import LabelEncoder\n",
    "from sklearn.feature_extraction import DictVectorizer\n",
    "from sklearn.pipeline import Pipeline\n",
    "from sklearn.externals import joblib\n",
    "\n",
    "import xgboost as xgb\n",
    "\n",
    "basepath = os.path.expanduser('~/Desktop/src/AllState_Claims_Severity/')\n",
    "sys.path.append(os.path.join(basepath, 'src'))\n",
    "\n",
    "from data import *\n",
    "\n",
    "np.random.seed(2016)"
   ]
  },
  {
   "cell_type": "code",
   "execution_count": 3,
   "metadata": {
    "collapsed": false
   },
   "outputs": [],
   "source": [
    "train      = pd.read_csv(os.path.join(basepath, 'data/raw/train.csv'))\n",
    "test       = pd.read_csv(os.path.join(basepath, 'data/raw/test.csv'))\n",
    "sample_sub = pd.read_csv(os.path.join(basepath, 'data/raw/sample_submission.csv'))"
   ]
  },
  {
   "cell_type": "code",
   "execution_count": 4,
   "metadata": {
    "collapsed": true
   },
   "outputs": [],
   "source": [
    "def encode_categorical_features(train, test, feature):\n",
    "    train_ = train.copy()\n",
    "    test_  = test.copy()\n",
    "    \n",
    "    encoder = LabelEncoder()\n",
    "    encoder.fit(pd.concat((train_[feature], test_[feature])))\n",
    "    \n",
    "    train_[feature] = encoder.transform(train_[feature])\n",
    "    test_[feature]  = encoder.transform(test_[feature])\n",
    "    \n",
    "    return train_[feature], test_[feature]\n",
    "\n",
    "def label_encoding(train, test, features):\n",
    "    for feat in features:\n",
    "        train[feat], test[feat] = encode_categorical_features(train, test, feat)\n",
    "    \n",
    "    return train, test"
   ]
  },
  {
   "cell_type": "markdown",
   "metadata": {},
   "source": [
    "** Multi valued features **"
   ]
  },
  {
   "cell_type": "code",
   "execution_count": 4,
   "metadata": {
    "collapsed": false
   },
   "outputs": [],
   "source": [
    "mv_features = get_multi_valued_features(train, test)"
   ]
  },
  {
   "cell_type": "markdown",
   "metadata": {},
   "source": [
    "** Binary valued features **"
   ]
  },
  {
   "cell_type": "code",
   "execution_count": 3,
   "metadata": {
    "collapsed": true
   },
   "outputs": [],
   "source": [
    "bv_features = get_binary_valued_features(train, test)"
   ]
  },
  {
   "cell_type": "markdown",
   "metadata": {},
   "source": [
    "** Label Encoding **"
   ]
  },
  {
   "cell_type": "code",
   "execution_count": 6,
   "metadata": {
    "collapsed": false
   },
   "outputs": [],
   "source": [
    "train, test = label_encoding(train, test, features, encode_categorical_features)"
   ]
  },
  {
   "cell_type": "markdown",
   "metadata": {},
   "source": [
    "** One Hot Encoding **"
   ]
  },
  {
   "cell_type": "code",
   "execution_count": 5,
   "metadata": {
    "collapsed": false
   },
   "outputs": [],
   "source": [
    "train_vec, test_vec = one_hot_encode_features(train, test, features)"
   ]
  },
  {
   "cell_type": "markdown",
   "metadata": {},
   "source": [
    "** Train Test Split **"
   ]
  },
  {
   "cell_type": "code",
   "execution_count": 5,
   "metadata": {
    "collapsed": false
   },
   "outputs": [],
   "source": [
    "itrain, itest = train_test_split(range(len(train)), test_size=0.2, random_state=40)"
   ]
  },
  {
   "cell_type": "markdown",
   "metadata": {},
   "source": [
    "** Multi-valued categorical variable feature selection **"
   ]
  },
  {
   "cell_type": "code",
   "execution_count": 29,
   "metadata": {
    "collapsed": true
   },
   "outputs": [],
   "source": [
    "def evaluate_features(train, test, y, itrain, itest, cols, folderpath):\n",
    "    evaluation = []\n",
    "    \n",
    "    for col in cols:\n",
    "        \n",
    "        # encode categorical variable \n",
    "        train_vec, test_vec = label_encoding(train, test, [col])\n",
    "        del test_vec\n",
    "        \n",
    "        X_train = train_vec.iloc[itrain][[col]]\n",
    "        X_test  = train_vec.iloc[itest][[col]]\n",
    "\n",
    "        y_train = y.iloc[itrain]\n",
    "        y_test  = y.iloc[itest]\n",
    "        \n",
    "        del train_vec\n",
    "        \n",
    "        # train model\n",
    "        pipeline = Pipeline([\n",
    "            ('model', RandomForestRegressor(n_estimators=10, n_jobs=-1, random_state=11))\n",
    "        ])\n",
    "        \n",
    "        pipeline.fit(X_train, y_train)\n",
    "        ypreds = pipeline.predict(X_test)\n",
    "        \n",
    "        score = mean_absolute_error(y_test, ypreds)\n",
    "        print('Feature Name: %s and MAE: %f'%(col, score))\n",
    "        evaluation.append((col, score))\n",
    "    \n",
    "    evaluation = np.array(sorted(evaluation, key=lambda x: x[1]))\n",
    "    joblib.dump(evaluation, os.path.join(basepath, 'data/processed/%s'%(folderpath)))"
   ]
  },
  {
   "cell_type": "code",
   "execution_count": 30,
   "metadata": {
    "collapsed": false
   },
   "outputs": [
    {
     "name": "stdout",
     "output_type": "stream",
     "text": [
      "Feature Name: cat1 and MAE: 1877.110292\n",
      "Feature Name: cat2 and MAE: 1875.075765\n",
      "Feature Name: cat3 and MAE: 1902.790586\n",
      "Feature Name: cat4 and MAE: 1945.402952\n",
      "Feature Name: cat5 and MAE: 1945.085884\n",
      "Feature Name: cat6 and MAE: 1933.550802\n",
      "Feature Name: cat7 and MAE: 1887.780068\n",
      "Feature Name: cat8 and MAE: 1949.372657\n",
      "Feature Name: cat9 and MAE: 1882.908352\n",
      "Feature Name: cat10 and MAE: 1848.904116\n",
      "Feature Name: cat11 and MAE: 1892.182960\n",
      "Feature Name: cat12 and MAE: 1816.756842\n",
      "Feature Name: cat13 and MAE: 1893.334365\n",
      "Feature Name: cat14 and MAE: 1947.525958\n",
      "Feature Name: cat15 and MAE: 1959.402722\n",
      "Feature Name: cat16 and MAE: 1904.401929\n",
      "Feature Name: cat17 and MAE: 1951.994329\n",
      "Feature Name: cat18 and MAE: 1957.007338\n",
      "Feature Name: cat19 and MAE: 1957.722474\n",
      "Feature Name: cat20 and MAE: 1957.958694\n",
      "Feature Name: cat21 and MAE: 1959.230984\n",
      "Feature Name: cat22 and MAE: 1959.298559\n",
      "Feature Name: cat23 and MAE: 1922.472125\n",
      "Feature Name: cat24 and MAE: 1946.394840\n",
      "Feature Name: cat25 and MAE: 1948.390424\n",
      "Feature Name: cat26 and MAE: 1954.461005\n",
      "Feature Name: cat27 and MAE: 1959.261810\n",
      "Feature Name: cat28 and MAE: 1937.457148\n",
      "Feature Name: cat29 and MAE: 1949.624643\n",
      "Feature Name: cat30 and MAE: 1956.660677\n",
      "Feature Name: cat31 and MAE: 1958.957024\n",
      "Feature Name: cat32 and MAE: 1959.182109\n",
      "Feature Name: cat33 and MAE: 1957.223611\n",
      "Feature Name: cat34 and MAE: 1958.291549\n",
      "Feature Name: cat35 and MAE: 1958.870755\n",
      "Feature Name: cat36 and MAE: 1921.953912\n",
      "Feature Name: cat37 and MAE: 1959.337871\n",
      "Feature Name: cat38 and MAE: 1944.828010\n",
      "Feature Name: cat39 and MAE: 1958.802589\n",
      "Feature Name: cat40 and MAE: 1938.422285\n",
      "Feature Name: cat41 and MAE: 1948.639384\n",
      "Feature Name: cat42 and MAE: 1959.268920\n",
      "Feature Name: cat43 and MAE: 1957.011647\n",
      "Feature Name: cat44 and MAE: 1955.858051\n",
      "Feature Name: cat45 and MAE: 1951.574780\n",
      "Feature Name: cat46 and MAE: 1956.609548\n",
      "Feature Name: cat47 and MAE: 1957.857383\n",
      "Feature Name: cat48 and MAE: 1958.682555\n",
      "Feature Name: cat49 and MAE: 1959.177531\n",
      "Feature Name: cat50 and MAE: 1937.008690\n",
      "Feature Name: cat51 and MAE: 1959.344112\n",
      "Feature Name: cat52 and MAE: 1958.517963\n",
      "Feature Name: cat53 and MAE: 1955.901301\n",
      "Feature Name: cat54 and MAE: 1959.407576\n",
      "Feature Name: cat55 and MAE: 1959.459771\n",
      "Feature Name: cat56 and MAE: 1958.807594\n",
      "Feature Name: cat57 and MAE: 1869.215908\n",
      "Feature Name: cat58 and MAE: 1958.845817\n",
      "Feature Name: cat59 and MAE: 1957.286300\n",
      "Feature Name: cat60 and MAE: 1958.722641\n",
      "Feature Name: cat61 and MAE: 1958.666540\n",
      "Feature Name: cat62 and MAE: 1959.130660\n",
      "Feature Name: cat63 and MAE: 1959.225771\n",
      "Feature Name: cat64 and MAE: 1959.150888\n",
      "Feature Name: cat65 and MAE: 1955.783555\n",
      "Feature Name: cat66 and MAE: 1954.063952\n",
      "Feature Name: cat67 and MAE: 1957.097666\n",
      "Feature Name: cat68 and MAE: 1959.224104\n",
      "Feature Name: cat69 and MAE: 1958.981458\n",
      "Feature Name: cat70 and MAE: 1959.353146\n",
      "Feature Name: cat71 and MAE: 1957.140266\n",
      "Feature Name: cat72 and MAE: 1889.755578\n"
     ]
    }
   ],
   "source": [
    "evaluate_features(train, test, train.loss, itrain, itest, bv_features, 'binary-valued-features/bv_feat_importance')"
   ]
  },
  {
   "cell_type": "code",
   "execution_count": 6,
   "metadata": {
    "collapsed": false
   },
   "outputs": [],
   "source": [
    "feat_importance = [79, 78, 56, 117, 122, 11, 80, 127, 129, 126, 104, 99, 71, 111, 105, 118, 120, 100, 109]\n",
    "features = train.columns[1:-1]\n",
    "imp_features = [features[f] for f in feat_importance]"
   ]
  },
  {
   "cell_type": "code",
   "execution_count": 7,
   "metadata": {
    "collapsed": true
   },
   "outputs": [],
   "source": [
    "train_vec, test_vec = one_hot_encode_features(train, test, ['cat80', 'cat79', 'cat81', 'cat105',\n",
    "                                                            'cat100', 'cat112', 'cat106', 'cat101', 'cat110'])"
   ]
  },
  {
   "cell_type": "code",
   "execution_count": 8,
   "metadata": {
    "collapsed": false
   },
   "outputs": [],
   "source": [
    "train_vec = train_vec.drop(['cat80_D', 'cat79_D', 'cat81_D', 'cat105_T', 'cat100_O',\n",
    "                            'cat112_Y','cat106_R', 'cat101_U', 'cat110_Y'], axis=1)\n",
    "test_vec  = test_vec.drop(['cat80_D', 'cat79_D', 'cat81_D', 'cat105_T', 'cat100_O',\n",
    "                            'cat112_Y','cat106_R', 'cat101_U', 'cat110_Y'], axis=1)"
   ]
  },
  {
   "cell_type": "code",
   "execution_count": 9,
   "metadata": {
    "collapsed": false
   },
   "outputs": [],
   "source": [
    "train_lbl, test_lbl = label_encoding(train, test, ['cat57', 'cat12', 'cat72'])"
   ]
  },
  {
   "cell_type": "code",
   "execution_count": 10,
   "metadata": {
    "collapsed": true
   },
   "outputs": [],
   "source": [
    "train_cont = train[['cont2', 'cont7', 'cont12', 'cont14', 'cont11', 'cont3', 'cont5']]\n",
    "test_cont  = test[['cont2', 'cont7', 'cont12', 'cont14', 'cont11', 'cont3', 'cont5']]"
   ]
  },
  {
   "cell_type": "code",
   "execution_count": 11,
   "metadata": {
    "collapsed": false
   },
   "outputs": [],
   "source": [
    "train_processed = pd.concat((train_lbl[['cat57', 'cat12', 'cat72']], train_vec, train_cont), axis=1)\n",
    "test_processed  = pd.concat((test_lbl[['cat57', 'cat12', 'cat72']], test_vec, test_cont), axis=1)"
   ]
  },
  {
   "cell_type": "code",
   "execution_count": 12,
   "metadata": {
    "collapsed": true
   },
   "outputs": [],
   "source": [
    "X_train = train_processed.iloc[itrain]\n",
    "X_test  = train_processed.iloc[itest]\n",
    "\n",
    "y_train = train.iloc[itrain].loss\n",
    "y_test  = train.iloc[itest].loss"
   ]
  },
  {
   "cell_type": "code",
   "execution_count": 13,
   "metadata": {
    "collapsed": true
   },
   "outputs": [],
   "source": [
    "y = train.loss"
   ]
  },
  {
   "cell_type": "code",
   "execution_count": 14,
   "metadata": {
    "collapsed": true
   },
   "outputs": [],
   "source": [
    "del train_vec, test_vec, train_lbl, test_lbl, train_cont, test_cont, train, test"
   ]
  },
  {
   "cell_type": "code",
   "execution_count": 21,
   "metadata": {
    "collapsed": true
   },
   "outputs": [],
   "source": [
    "pipeline = Pipeline([\n",
    "            ('model', xgb.XGBRegressor(colsample_bytree=0.8, subsample=0.8, seed=124, gamma=1, max_depth=5, learning_rate=0.1))\n",
    "           ])"
   ]
  },
  {
   "cell_type": "code",
   "execution_count": 22,
   "metadata": {
    "collapsed": false
   },
   "outputs": [
    {
     "data": {
      "text/plain": [
       "Pipeline(steps=[('model', XGBRegressor(base_score=0.5, colsample_bylevel=1, colsample_bytree=0.8,\n",
       "       gamma=1, learning_rate=0.1, max_delta_step=0, max_depth=5,\n",
       "       min_child_weight=1, missing=None, n_estimators=100, nthread=-1,\n",
       "       objective='reg:linear', reg_alpha=0, reg_lambda=1,\n",
       "       scale_pos_weight=1, seed=124, silent=True, subsample=0.8))])"
      ]
     },
     "execution_count": 22,
     "metadata": {},
     "output_type": "execute_result"
    }
   ],
   "source": [
    "pipeline.fit(X_train, y_train)"
   ]
  },
  {
   "cell_type": "markdown",
   "metadata": {},
   "source": [
    "** Public Leaderboard Score: 1760.47142 **"
   ]
  },
  {
   "cell_type": "code",
   "execution_count": 23,
   "metadata": {
    "collapsed": false
   },
   "outputs": [
    {
     "name": "stdout",
     "output_type": "stream",
     "text": [
      "MAE on unseen examples: 1304.152417\n"
     ]
    }
   ],
   "source": [
    "ypred = pipeline.predict(X_test)\n",
    "print('MAE on unseen examples: %f'%(mean_absolute_error(y_test, ypred)))"
   ]
  },
  {
   "cell_type": "markdown",
   "metadata": {},
   "source": [
    "** Training **"
   ]
  },
  {
   "cell_type": "code",
   "execution_count": 65,
   "metadata": {
    "collapsed": false
   },
   "outputs": [],
   "source": [
    "pipeline.fit(train_processed, train.loss)\n",
    "predictions = pipeline.predict(test_processed)"
   ]
  },
  {
   "cell_type": "markdown",
   "metadata": {},
   "source": [
    "** Submissions **"
   ]
  },
  {
   "cell_type": "code",
   "execution_count": 66,
   "metadata": {
    "collapsed": false
   },
   "outputs": [],
   "source": [
    "sample_sub['loss'] = predictions\n",
    "sample_sub.to_csv(os.path.join(basepath, 'submissions/basic_simple_features.csv'), index=False)"
   ]
  },
  {
   "cell_type": "code",
   "execution_count": null,
   "metadata": {
    "collapsed": true
   },
   "outputs": [],
   "source": []
  }
 ],
 "metadata": {
  "anaconda-cloud": {},
  "kernelspec": {
   "display_name": "Python [Root]",
   "language": "python",
   "name": "Python [Root]"
  },
  "language_info": {
   "codemirror_mode": {
    "name": "ipython",
    "version": 3
   },
   "file_extension": ".py",
   "mimetype": "text/x-python",
   "name": "python",
   "nbconvert_exporter": "python",
   "pygments_lexer": "ipython3",
   "version": "3.5.2"
  }
 },
 "nbformat": 4,
 "nbformat_minor": 0
}
