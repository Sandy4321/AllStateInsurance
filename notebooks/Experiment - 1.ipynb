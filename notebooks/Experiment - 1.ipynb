{
 "cells": [
  {
   "cell_type": "markdown",
   "metadata": {},
   "source": [
    "``` \n",
    "Ideas\n",
    "\n",
    "1. Convert numerical features to categorical features by using np.round(df[cont_features], decimals=1)\n",
    "2. Then run different models to see the performance.\n",
    "```"
   ]
  },
  {
   "cell_type": "markdown",
   "metadata": {},
   "source": [
    "```\n",
    "Remarks\n",
    "\n",
    "1. Addition of features does not offer any improvements in the score.\n",
    "2. Not able to beat random forest benchmark score ( I think it is because of the number of trees used by myself )\n",
    "```"
   ]
  },
  {
   "cell_type": "code",
   "execution_count": 1,
   "metadata": {
    "collapsed": true
   },
   "outputs": [],
   "source": [
    "%matplotlib inline\n",
    "\n",
    "import numpy as np\n",
    "import pandas as pd\n",
    "import os,sys\n",
    "\n",
    "import matplotlib.pyplot as plt\n",
    "import seaborn as sns\n",
    "\n",
    "from sklearn.cross_validation import StratifiedKFold\n",
    "from sklearn.cross_validation import train_test_split\n",
    "from sklearn.ensemble import RandomForestRegressor\n",
    "from sklearn.ensemble import ExtraTreesRegressor\n",
    "from sklearn.linear_model import Lasso\n",
    "from sklearn.metrics import mean_absolute_error\n",
    "\n",
    "import warnings\n",
    "warnings.filterwarnings('ignore')\n",
    "\n",
    "basepath = os.path.expanduser('~/Desktop/src/AllState_Claims_Severity/')\n",
    "sys.path.append(os.path.join(basepath, 'src'))\n",
    "\n",
    "np.random.seed(2016)\n",
    "\n",
    "from data import *"
   ]
  },
  {
   "cell_type": "code",
   "execution_count": 2,
   "metadata": {
    "collapsed": true
   },
   "outputs": [],
   "source": [
    "# load files\n",
    "train      = pd.read_csv(os.path.join(basepath, 'data/raw/train.csv'))\n",
    "test       = pd.read_csv(os.path.join(basepath, 'data/raw/test.csv'))\n",
    "sample_sub = pd.read_csv(os.path.join(basepath, 'data/raw/sample_submission.csv'))"
   ]
  },
  {
   "cell_type": "code",
   "execution_count": 3,
   "metadata": {
    "collapsed": true
   },
   "outputs": [],
   "source": [
    "cont_features = [col for col in train.columns[1:-1] if 'cont' in col] # this could probably be shifted to common utility\n",
    "cat_features  = [col for col in train.columns[1:-1] if 'cat' in col]  "
   ]
  },
  {
   "cell_type": "code",
   "execution_count": 4,
   "metadata": {
    "collapsed": false
   },
   "outputs": [],
   "source": [
    "# create an indicator for somewhat precarious values for loss. ( only to reduce the number of training examples. )\n",
    "train['loss_indicator'] = train.loss.map(lambda x: int(x < 4e3))"
   ]
  },
  {
   "cell_type": "code",
   "execution_count": 5,
   "metadata": {
    "collapsed": false
   },
   "outputs": [],
   "source": [
    "# create a stratified sample\n",
    "\n",
    "skf = StratifiedKFold(train.loss_indicator, n_folds=2, shuffle=True, random_state=111)\n",
    "itrain, itest = next(iter(skf))\n",
    "\n",
    "train_ = train.iloc[itrain]"
   ]
  },
  {
   "cell_type": "code",
   "execution_count": 7,
   "metadata": {
    "collapsed": false
   },
   "outputs": [],
   "source": [
    "train_cont           = np.round(train_[cont_features], decimals=1)\n",
    "test_cont            = np.round(test[cont_features], decimals=1)\n",
    "\n",
    "train_cat, test_cat  = encode_categorical_features(train_[cat_features], test[cat_features])"
   ]
  },
  {
   "cell_type": "markdown",
   "metadata": {},
   "source": [
    "** Features **\n",
    "\n",
    "* Roundoff cont2 variable to single decimal\n",
    "* Create another categorical feature marking whether cont2_rounded is equal to .6 or not\n",
    "* For cont7 flag for 0.0 and 1.0 as loss values are different."
   ]
  },
  {
   "cell_type": "code",
   "execution_count": 26,
   "metadata": {
    "collapsed": true
   },
   "outputs": [],
   "source": [
    "# X = train_cont[['cont2', 'cont3', 'cont7', 'cont11', 'cont13']]\n",
    "X = pd.concat((train_cont, train_cat), axis=1)\n",
    "y = (train_.loss) # take into log space"
   ]
  },
  {
   "cell_type": "code",
   "execution_count": 11,
   "metadata": {
    "collapsed": false
   },
   "outputs": [],
   "source": [
    "test_processed = pd.concat((test_cont, test_cat), axis=1)"
   ]
  },
  {
   "cell_type": "markdown",
   "metadata": {},
   "source": [
    "** Split into training and test sets **"
   ]
  },
  {
   "cell_type": "code",
   "execution_count": 27,
   "metadata": {
    "collapsed": false
   },
   "outputs": [],
   "source": [
    "itrain, itest = train_test_split(range(len(X)), stratify=train_.loss_indicator, test_size=0.2, random_state=123)"
   ]
  },
  {
   "cell_type": "code",
   "execution_count": 28,
   "metadata": {
    "collapsed": false
   },
   "outputs": [],
   "source": [
    "X_train = X.iloc[itrain]\n",
    "X_test  = X.iloc[itest]\n",
    "\n",
    "y_train = y.iloc[itrain]\n",
    "y_test  = y.iloc[itest]"
   ]
  },
  {
   "cell_type": "markdown",
   "metadata": {},
   "source": [
    "** Set up a cross validation scheme **\n",
    "\n",
    "* Needs loss indicator to set up stratified sample splits.\n",
    "* feature matrix and target array.\n",
    "* Estimator to fit on the data.\n",
    "* Returns the list of mean absolute errors obtained on each cross validation fold."
   ]
  },
  {
   "cell_type": "code",
   "execution_count": 29,
   "metadata": {
    "collapsed": false
   },
   "outputs": [],
   "source": [
    "def get_cv_scores(train_sub, X_train, y_train, n_estimators=10):\n",
    "    \n",
    "    skf = StratifiedKFold(train_sub.loss_indicator, n_folds=3, shuffle=True, random_state=112)\n",
    "    scores = []\n",
    "\n",
    "    for itr, ite in skf:\n",
    "        X_tr = X_train.iloc[itr]\n",
    "        X_te = X_train.iloc[ite]\n",
    "\n",
    "        y_tr = y_train.iloc[itr]\n",
    "        y_te = y_train.iloc[ite]\n",
    "\n",
    "        est1 = RandomForestRegressor(n_estimators=n_estimators, max_depth=15, n_jobs=-1, random_state=1222)\n",
    "        est2 = ExtraTreesRegressor(n_estimators=n_estimators, max_depth=15, n_jobs=-1, random_state=2324)\n",
    "    \n",
    "        est1.fit(X_tr, y_tr)\n",
    "        est2.fit(X_tr, y_tr)\n",
    "\n",
    "        y_pred1  = (est1.predict(X_te))\n",
    "        y_pred2  = (est2.predict(X_te))\n",
    "\n",
    "        y_pred = 0.5 * y_pred1 + 0.5 * y_pred2\n",
    "\n",
    "        scores.append(mean_absolute_error(y_te, y_pred))\n",
    "    return scores"
   ]
  },
  {
   "cell_type": "code",
   "execution_count": 30,
   "metadata": {
    "collapsed": false
   },
   "outputs": [],
   "source": [
    "scores = get_cv_scores(train_.iloc[itrain], X_train, y_train)"
   ]
  },
  {
   "cell_type": "code",
   "execution_count": 31,
   "metadata": {
    "collapsed": false
   },
   "outputs": [
    {
     "name": "stdout",
     "output_type": "stream",
     "text": [
      "Scores for every fold during cross validation  [1357.3898016931937, 1363.9219379602066, 1358.8900116382165]\n"
     ]
    }
   ],
   "source": [
    "print('Scores for every fold during cross validation ', scores)"
   ]
  },
  {
   "cell_type": "code",
   "execution_count": 37,
   "metadata": {
    "collapsed": true
   },
   "outputs": [],
   "source": [
    "# est = Lasso()\n",
    "est1 = RandomForestRegressor(max_depth=7, n_jobs=-1, random_state=12442)\n",
    "est2 = ExtraTreesRegressor(max_depth=7, n_jobs=-1, random_state=23141)\n",
    "\n",
    "# retrain the model\n",
    "est1.fit(X_train, y_train)\n",
    "est2.fit(X_train, y_train)\n",
    "\n",
    "y_pred1  = (est1.predict(X_test))\n",
    "y_pred2  = (est2.predict(X_test))\n",
    "    \n",
    "y_pred = 0.5 * y_pred1 + 0.5 * y_pred2"
   ]
  },
  {
   "cell_type": "code",
   "execution_count": 38,
   "metadata": {
    "collapsed": false
   },
   "outputs": [
    {
     "name": "stdout",
     "output_type": "stream",
     "text": [
      "Mean Absolute Error on unseen examples  1361.93783826\n"
     ]
    }
   ],
   "source": [
    "print('Mean Absolute Error on unseen examples ', mean_absolute_error(y_test, y_pred))"
   ]
  },
  {
   "cell_type": "markdown",
   "metadata": {},
   "source": [
    "** Lets see if number of estimators has an effect on the overall performance or not. **"
   ]
  },
  {
   "cell_type": "code",
   "execution_count": 39,
   "metadata": {
    "collapsed": true
   },
   "outputs": [],
   "source": [
    "def perf_by_estimators(train_sub, X_train, y_train, estimators=[10, 25, 50, 75]):\n",
    "    mean_cv_scores = []\n",
    "    for estimator in estimators:\n",
    "        scores = get_cv_scores(train_sub, X_train, y_train, n_estimators=estimator)\n",
    "        mean_cv_scores.append(np.mean(scores))\n",
    "    \n",
    "    plt.scatter(estimators, mean_cv_scores)\n",
    "    plt.xlabel('Number of Trees')\n",
    "    plt.ylabel('MAE score')\n",
    "    return mean_cv_scores"
   ]
  },
  {
   "cell_type": "code",
   "execution_count": 40,
   "metadata": {
    "collapsed": false
   },
   "outputs": [
    {
     "data": {
      "text/plain": [
       "[1361.4373122208128,\n",
       " 1359.9628944698882,\n",
       " 1359.5855976242822,\n",
       " 1359.0492117847646]"
      ]
     },
     "execution_count": 40,
     "metadata": {},
     "output_type": "execute_result"
    },
    {
     "data": {
      "image/png": "[encoded data removed]",
      "text/plain": [
       "<matplotlib.figure.Figure at 0x7ffaf9c21d30>"
      ]
     },
     "metadata": {},
     "output_type": "display_data"
    }
   ],
   "source": [
    "perf_by_estimators(train.iloc[itrain], X_train, y_train)"
   ]
  },
  {
   "cell_type": "code",
   "execution_count": null,
   "metadata": {
    "collapsed": true
   },
   "outputs": [],
   "source": []
  }
 ],
 "metadata": {
  "kernelspec": {
   "display_name": "Python [Root]",
   "language": "python",
   "name": "Python [Root]"
  },
  "language_info": {
   "codemirror_mode": {
    "name": "ipython",
    "version": 3
   },
   "file_extension": ".py",
   "mimetype": "text/x-python",
   "name": "python",
   "nbconvert_exporter": "python",
   "pygments_lexer": "ipython3",
   "version": "3.5.2"
  }
 },
 "nbformat": 4,
 "nbformat_minor": 0
}
